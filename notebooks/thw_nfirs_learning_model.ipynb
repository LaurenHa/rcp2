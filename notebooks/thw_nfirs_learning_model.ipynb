{
 "cells": [
  {
   "cell_type": "markdown",
   "metadata": {},
   "source": [
    "# DataKind Red Cross Project Phase 2\n",
    "## Home Fire Risk Data Model\n",
    "10/28/2019\n",
    "Tasks:\n",
    "5. <b>Home Fire Predictablility Assessment</b>: Using Census Tract Fire Severity Assesment bin Data at 3-month 6-month or 1-year intervals and train simple linear/logistic regression model"
   ]
  },
  {
   "cell_type": "code",
   "execution_count": 1,
   "metadata": {},
   "outputs": [],
   "source": [
    "import pandas as pd\n",
    "import numpy as np\n",
    "import matplotlib.pyplot as plt\n",
    "import seaborn as sns\n",
    "\n",
    "%matplotlib inline\n",
    "pd.set_option('display.max_columns',500)\n",
    "sns.set()"
   ]
  },
  {
   "cell_type": "markdown",
   "metadata": {},
   "source": [
    "# Data Import and Cleaning"
   ]
  },
  {
   "cell_type": "markdown",
   "metadata": {},
   "source": [
    "## NFIRS Data"
   ]
  },
  {
   "cell_type": "markdown",
   "metadata": {},
   "source": [
    "First, make sure that I import the dataset correctly and get the column dtypes correct so that data isn't lost (for id numbers with leading zeros for example)"
   ]
  },
  {
   "cell_type": "code",
   "execution_count": 2,
   "metadata": {},
   "outputs": [
    {
     "name": "stderr",
     "output_type": "stream",
     "text": [
      "C:\\Users\\thwhi\\Anaconda3\\lib\\site-packages\\IPython\\core\\interactiveshell.py:3057: DtypeWarning: Columns (2,6) have mixed types. Specify dtype option on import or set low_memory=False.\n",
      "  interactivity=interactivity, compiler=compiler, result=result)\n"
     ]
    }
   ],
   "source": [
    "nfirs_path = '../data/raw/NFIRS_2009_2016_Combined_Census_Tract.csv'\n",
    "\n",
    "cols_to_use = ['state','fdid','city','zip5','inc_date','oth_inj','oth_death','prop_loss',\n",
    "               'cont_loss','tot_loss','GEOID']\n",
    "col_dtypes = {'GEOID':str}\n",
    "\n",
    "nfirs = pd.read_csv(nfirs_path,\n",
    "                    dtype = col_dtypes,\n",
    "                    usecols = cols_to_use,\n",
    "                    encoding='latin-1')\n",
    "\n",
    "nfirs['inc_date'] = pd.to_datetime(nfirs['inc_date'], infer_datetime_format=True)"
   ]
  },
  {
   "cell_type": "code",
   "execution_count": 3,
   "metadata": {},
   "outputs": [],
   "source": [
    "# Fix the tot_loss column which had incorrect data for 2015. Since tot_loss = prop_loss + cont_loss, it was easy enough to recalculate those values\n",
    "nfirs['tot_loss'] = nfirs['prop_loss'] + nfirs['cont_loss']"
   ]
  },
  {
   "cell_type": "code",
   "execution_count": 4,
   "metadata": {},
   "outputs": [],
   "source": [
    "# Add the severe fire column to the dataset\n",
    "sev_fire_mask = (nfirs['oth_death'] > 0) | (nfirs['oth_inj'] > 0) | (nfirs['tot_loss'] >= 10000)\n",
    "nfirs['severe_fire'] = 'not_sev_fire'\n",
    "nfirs.loc[sev_fire_mask,'severe_fire'] = 'sev_fire'"
   ]
  },
  {
   "cell_type": "code",
   "execution_count": 5,
   "metadata": {},
   "outputs": [],
   "source": [
    "nfirs['had_inj'] = np.where(nfirs['oth_inj']>0,'had_inj','no_inj')\n",
    "nfirs['had_death'] = np.where(nfirs['oth_death']>0,'had_death','no_death')\n",
    "nfirs['10k_loss'] = np.where(nfirs['tot_loss']>=10000,'had_10k_loss','no_10k_loss')"
   ]
  },
  {
   "cell_type": "code",
   "execution_count": 6,
   "metadata": {},
   "outputs": [
    {
     "data": {
      "text/html": [
       "<div>\n",
       "<style scoped>\n",
       "    .dataframe tbody tr th:only-of-type {\n",
       "        vertical-align: middle;\n",
       "    }\n",
       "\n",
       "    .dataframe tbody tr th {\n",
       "        vertical-align: top;\n",
       "    }\n",
       "\n",
       "    .dataframe thead th {\n",
       "        text-align: right;\n",
       "    }\n",
       "</style>\n",
       "<table border=\"1\" class=\"dataframe\">\n",
       "  <thead>\n",
       "    <tr style=\"text-align: right;\">\n",
       "      <th></th>\n",
       "      <th>state</th>\n",
       "      <th>fdid</th>\n",
       "      <th>city</th>\n",
       "      <th>zip5</th>\n",
       "      <th>inc_date</th>\n",
       "      <th>oth_inj</th>\n",
       "      <th>oth_death</th>\n",
       "      <th>prop_loss</th>\n",
       "      <th>cont_loss</th>\n",
       "      <th>tot_loss</th>\n",
       "      <th>GEOID</th>\n",
       "      <th>severe_fire</th>\n",
       "      <th>had_inj</th>\n",
       "      <th>had_death</th>\n",
       "      <th>10k_loss</th>\n",
       "    </tr>\n",
       "  </thead>\n",
       "  <tbody>\n",
       "    <tr>\n",
       "      <th>991549</th>\n",
       "      <td>CA</td>\n",
       "      <td>38005</td>\n",
       "      <td>SF</td>\n",
       "      <td>94117</td>\n",
       "      <td>2013-06-02</td>\n",
       "      <td>NaN</td>\n",
       "      <td>NaN</td>\n",
       "      <td>100.0</td>\n",
       "      <td>1000.0</td>\n",
       "      <td>1100.0</td>\n",
       "      <td>6075016600.0</td>\n",
       "      <td>not_sev_fire</td>\n",
       "      <td>no_inj</td>\n",
       "      <td>no_death</td>\n",
       "      <td>no_10k_loss</td>\n",
       "    </tr>\n",
       "    <tr>\n",
       "      <th>260333</th>\n",
       "      <td>CO</td>\n",
       "      <td>12339</td>\n",
       "      <td>Hudson</td>\n",
       "      <td>80642</td>\n",
       "      <td>2010-11-21</td>\n",
       "      <td>0.0</td>\n",
       "      <td>0.0</td>\n",
       "      <td>20000.0</td>\n",
       "      <td>20000.0</td>\n",
       "      <td>40000.0</td>\n",
       "      <td>NaN</td>\n",
       "      <td>sev_fire</td>\n",
       "      <td>no_inj</td>\n",
       "      <td>no_death</td>\n",
       "      <td>had_10k_loss</td>\n",
       "    </tr>\n",
       "    <tr>\n",
       "      <th>1585495</th>\n",
       "      <td>MA</td>\n",
       "      <td>25057</td>\n",
       "      <td>CHELSEA</td>\n",
       "      <td>02150</td>\n",
       "      <td>2015-06-21</td>\n",
       "      <td>NaN</td>\n",
       "      <td>NaN</td>\n",
       "      <td>500.0</td>\n",
       "      <td>100.0</td>\n",
       "      <td>600.0</td>\n",
       "      <td>25025160501.0</td>\n",
       "      <td>not_sev_fire</td>\n",
       "      <td>no_inj</td>\n",
       "      <td>no_death</td>\n",
       "      <td>no_10k_loss</td>\n",
       "    </tr>\n",
       "    <tr>\n",
       "      <th>1881566</th>\n",
       "      <td>PA</td>\n",
       "      <td>40030</td>\n",
       "      <td>Hazleton</td>\n",
       "      <td>18201</td>\n",
       "      <td>2016-12-03</td>\n",
       "      <td>NaN</td>\n",
       "      <td>NaN</td>\n",
       "      <td>0.0</td>\n",
       "      <td>0.0</td>\n",
       "      <td>0.0</td>\n",
       "      <td>42079217200.0</td>\n",
       "      <td>not_sev_fire</td>\n",
       "      <td>no_inj</td>\n",
       "      <td>no_death</td>\n",
       "      <td>no_10k_loss</td>\n",
       "    </tr>\n",
       "    <tr>\n",
       "      <th>697159</th>\n",
       "      <td>SC</td>\n",
       "      <td>42203</td>\n",
       "      <td>Boiling Springs</td>\n",
       "      <td>29316</td>\n",
       "      <td>2011-10-24</td>\n",
       "      <td>0.0</td>\n",
       "      <td>0.0</td>\n",
       "      <td>0.0</td>\n",
       "      <td>0.0</td>\n",
       "      <td>0.0</td>\n",
       "      <td>NaN</td>\n",
       "      <td>not_sev_fire</td>\n",
       "      <td>no_inj</td>\n",
       "      <td>no_death</td>\n",
       "      <td>no_10k_loss</td>\n",
       "    </tr>\n",
       "  </tbody>\n",
       "</table>\n",
       "</div>"
      ],
      "text/plain": [
       "        state   fdid             city   zip5   inc_date  oth_inj  oth_death  \\\n",
       "991549     CA  38005               SF  94117 2013-06-02      NaN        NaN   \n",
       "260333     CO  12339           Hudson  80642 2010-11-21      0.0        0.0   \n",
       "1585495    MA  25057          CHELSEA  02150 2015-06-21      NaN        NaN   \n",
       "1881566    PA  40030         Hazleton  18201 2016-12-03      NaN        NaN   \n",
       "697159     SC  42203  Boiling Springs  29316 2011-10-24      0.0        0.0   \n",
       "\n",
       "         prop_loss  cont_loss  tot_loss          GEOID   severe_fire had_inj  \\\n",
       "991549       100.0     1000.0    1100.0   6075016600.0  not_sev_fire  no_inj   \n",
       "260333     20000.0    20000.0   40000.0            NaN      sev_fire  no_inj   \n",
       "1585495      500.0      100.0     600.0  25025160501.0  not_sev_fire  no_inj   \n",
       "1881566        0.0        0.0       0.0  42079217200.0  not_sev_fire  no_inj   \n",
       "697159         0.0        0.0       0.0            NaN  not_sev_fire  no_inj   \n",
       "\n",
       "        had_death      10k_loss  \n",
       "991549   no_death   no_10k_loss  \n",
       "260333   no_death  had_10k_loss  \n",
       "1585495  no_death   no_10k_loss  \n",
       "1881566  no_death   no_10k_loss  \n",
       "697159   no_death   no_10k_loss  "
      ]
     },
     "execution_count": 6,
     "metadata": {},
     "output_type": "execute_result"
    }
   ],
   "source": [
    "nfirs.sample(5)"
   ]
  },
  {
   "cell_type": "markdown",
   "metadata": {},
   "source": [
    "## Fix GEOIDs (add leading zeros to correct columns)\n",
    "It seems that a lot of the GEOIDs are missing the leading 0. For now I'm just going to add a leading 0 if the GEOID length is 10."
   ]
  },
  {
   "cell_type": "code",
   "execution_count": 7,
   "metadata": {},
   "outputs": [
    {
     "data": {
      "text/plain": [
       "13.0    1442479\n",
       "12.0     196432\n",
       "Name: GEOID, dtype: int64"
      ]
     },
     "execution_count": 7,
     "metadata": {},
     "output_type": "execute_result"
    }
   ],
   "source": [
    "nfirs['GEOID'].str.len().value_counts()"
   ]
  },
  {
   "cell_type": "code",
   "execution_count": 8,
   "metadata": {},
   "outputs": [],
   "source": [
    "nfirs['GEOID'] = (nfirs['GEOID'].str[:-2]\n",
    "                  .str.zfill(11))"
   ]
  },
  {
   "cell_type": "code",
   "execution_count": 9,
   "metadata": {},
   "outputs": [
    {
     "data": {
      "text/html": [
       "<div>\n",
       "<style scoped>\n",
       "    .dataframe tbody tr th:only-of-type {\n",
       "        vertical-align: middle;\n",
       "    }\n",
       "\n",
       "    .dataframe tbody tr th {\n",
       "        vertical-align: top;\n",
       "    }\n",
       "\n",
       "    .dataframe thead th {\n",
       "        text-align: right;\n",
       "    }\n",
       "</style>\n",
       "<table border=\"1\" class=\"dataframe\">\n",
       "  <thead>\n",
       "    <tr style=\"text-align: right;\">\n",
       "      <th></th>\n",
       "      <th>state</th>\n",
       "      <th>fdid</th>\n",
       "      <th>city</th>\n",
       "      <th>zip5</th>\n",
       "      <th>inc_date</th>\n",
       "      <th>oth_inj</th>\n",
       "      <th>oth_death</th>\n",
       "      <th>prop_loss</th>\n",
       "      <th>cont_loss</th>\n",
       "      <th>tot_loss</th>\n",
       "      <th>GEOID</th>\n",
       "      <th>severe_fire</th>\n",
       "      <th>had_inj</th>\n",
       "      <th>had_death</th>\n",
       "      <th>10k_loss</th>\n",
       "    </tr>\n",
       "  </thead>\n",
       "  <tbody>\n",
       "    <tr>\n",
       "      <th>0</th>\n",
       "      <td>AK</td>\n",
       "      <td>11100</td>\n",
       "      <td>JUNEAU</td>\n",
       "      <td>99801</td>\n",
       "      <td>2009-01-03</td>\n",
       "      <td>0.0</td>\n",
       "      <td>0.0</td>\n",
       "      <td>20000.0</td>\n",
       "      <td>5000.0</td>\n",
       "      <td>25000.0</td>\n",
       "      <td>02110000500</td>\n",
       "      <td>sev_fire</td>\n",
       "      <td>no_inj</td>\n",
       "      <td>no_death</td>\n",
       "      <td>had_10k_loss</td>\n",
       "    </tr>\n",
       "    <tr>\n",
       "      <th>1</th>\n",
       "      <td>AK</td>\n",
       "      <td>11100</td>\n",
       "      <td>JUNEAU</td>\n",
       "      <td>99801</td>\n",
       "      <td>2009-01-06</td>\n",
       "      <td>0.0</td>\n",
       "      <td>0.0</td>\n",
       "      <td>0.0</td>\n",
       "      <td>0.0</td>\n",
       "      <td>0.0</td>\n",
       "      <td>02110000600</td>\n",
       "      <td>not_sev_fire</td>\n",
       "      <td>no_inj</td>\n",
       "      <td>no_death</td>\n",
       "      <td>no_10k_loss</td>\n",
       "    </tr>\n",
       "    <tr>\n",
       "      <th>2</th>\n",
       "      <td>AK</td>\n",
       "      <td>11100</td>\n",
       "      <td>JUNEAU</td>\n",
       "      <td>99801</td>\n",
       "      <td>2009-01-06</td>\n",
       "      <td>0.0</td>\n",
       "      <td>0.0</td>\n",
       "      <td>20000.0</td>\n",
       "      <td>5000.0</td>\n",
       "      <td>25000.0</td>\n",
       "      <td>02110000100</td>\n",
       "      <td>sev_fire</td>\n",
       "      <td>no_inj</td>\n",
       "      <td>no_death</td>\n",
       "      <td>had_10k_loss</td>\n",
       "    </tr>\n",
       "    <tr>\n",
       "      <th>3</th>\n",
       "      <td>AK</td>\n",
       "      <td>11100</td>\n",
       "      <td>JUNEAU</td>\n",
       "      <td>99801</td>\n",
       "      <td>2009-01-13</td>\n",
       "      <td>0.0</td>\n",
       "      <td>0.0</td>\n",
       "      <td>200.0</td>\n",
       "      <td>20.0</td>\n",
       "      <td>220.0</td>\n",
       "      <td>02110000400</td>\n",
       "      <td>not_sev_fire</td>\n",
       "      <td>no_inj</td>\n",
       "      <td>no_death</td>\n",
       "      <td>no_10k_loss</td>\n",
       "    </tr>\n",
       "    <tr>\n",
       "      <th>4</th>\n",
       "      <td>AK</td>\n",
       "      <td>11100</td>\n",
       "      <td>JUNEAU</td>\n",
       "      <td>99801</td>\n",
       "      <td>2009-01-21</td>\n",
       "      <td>0.0</td>\n",
       "      <td>0.0</td>\n",
       "      <td>35000.0</td>\n",
       "      <td>5000.0</td>\n",
       "      <td>40000.0</td>\n",
       "      <td>02110000400</td>\n",
       "      <td>sev_fire</td>\n",
       "      <td>no_inj</td>\n",
       "      <td>no_death</td>\n",
       "      <td>had_10k_loss</td>\n",
       "    </tr>\n",
       "  </tbody>\n",
       "</table>\n",
       "</div>"
      ],
      "text/plain": [
       "  state   fdid    city   zip5   inc_date  oth_inj  oth_death  prop_loss  \\\n",
       "0    AK  11100  JUNEAU  99801 2009-01-03      0.0        0.0    20000.0   \n",
       "1    AK  11100  JUNEAU  99801 2009-01-06      0.0        0.0        0.0   \n",
       "2    AK  11100  JUNEAU  99801 2009-01-06      0.0        0.0    20000.0   \n",
       "3    AK  11100  JUNEAU  99801 2009-01-13      0.0        0.0      200.0   \n",
       "4    AK  11100  JUNEAU  99801 2009-01-21      0.0        0.0    35000.0   \n",
       "\n",
       "   cont_loss  tot_loss        GEOID   severe_fire had_inj had_death  \\\n",
       "0     5000.0   25000.0  02110000500      sev_fire  no_inj  no_death   \n",
       "1        0.0       0.0  02110000600  not_sev_fire  no_inj  no_death   \n",
       "2     5000.0   25000.0  02110000100      sev_fire  no_inj  no_death   \n",
       "3       20.0     220.0  02110000400  not_sev_fire  no_inj  no_death   \n",
       "4     5000.0   40000.0  02110000400      sev_fire  no_inj  no_death   \n",
       "\n",
       "       10k_loss  \n",
       "0  had_10k_loss  \n",
       "1   no_10k_loss  \n",
       "2  had_10k_loss  \n",
       "3   no_10k_loss  \n",
       "4  had_10k_loss  "
      ]
     },
     "execution_count": 9,
     "metadata": {},
     "output_type": "execute_result"
    }
   ],
   "source": [
    "nfirs.head()"
   ]
  },
  {
   "cell_type": "code",
   "execution_count": 10,
   "metadata": {},
   "outputs": [],
   "source": [
    "# Add a year column to be used to groupby in addition to GEOID\n",
    "nfirs['year'] = nfirs['inc_date'].dt.year"
   ]
  },
  {
   "cell_type": "markdown",
   "metadata": {},
   "source": [
    "## SVI Data"
   ]
  },
  {
   "cell_type": "code",
   "execution_count": 11,
   "metadata": {},
   "outputs": [],
   "source": [
    "svi2016_path = '../data/raw/SVI2016_US.csv'\n",
    "svi2016_top = pd.read_csv(svi2016_path,nrows=1000)\n",
    "\n",
    "svi_col_dtypes = {'ST':str,'STCNTY':str,'FIPS':str}\n",
    "\n",
    "svi2016 = pd.read_csv(svi2016_path,\n",
    "                     index_col=0,\n",
    "                     dtype = svi_col_dtypes)"
   ]
  },
  {
   "cell_type": "code",
   "execution_count": 12,
   "metadata": {},
   "outputs": [
    {
     "data": {
      "text/html": [
       "<div>\n",
       "<style scoped>\n",
       "    .dataframe tbody tr th:only-of-type {\n",
       "        vertical-align: middle;\n",
       "    }\n",
       "\n",
       "    .dataframe tbody tr th {\n",
       "        vertical-align: top;\n",
       "    }\n",
       "\n",
       "    .dataframe thead th {\n",
       "        text-align: right;\n",
       "    }\n",
       "</style>\n",
       "<table border=\"1\" class=\"dataframe\">\n",
       "  <thead>\n",
       "    <tr style=\"text-align: right;\">\n",
       "      <th></th>\n",
       "      <th>ST</th>\n",
       "      <th>STATE</th>\n",
       "      <th>ST_ABBR</th>\n",
       "      <th>STCNTY</th>\n",
       "      <th>COUNTY</th>\n",
       "      <th>FIPS</th>\n",
       "      <th>LOCATION</th>\n",
       "      <th>AREA_SQMI</th>\n",
       "      <th>E_TOTPOP</th>\n",
       "      <th>M_TOTPOP</th>\n",
       "      <th>E_HU</th>\n",
       "      <th>M_HU</th>\n",
       "      <th>E_HH</th>\n",
       "      <th>M_HH</th>\n",
       "      <th>E_POV</th>\n",
       "      <th>M_POV</th>\n",
       "      <th>E_UNEMP</th>\n",
       "      <th>M_UNEMP</th>\n",
       "      <th>E_PCI</th>\n",
       "      <th>M_PCI</th>\n",
       "      <th>E_NOHSDP</th>\n",
       "      <th>M_NOHSDP</th>\n",
       "      <th>E_AGE65</th>\n",
       "      <th>M_AGE65</th>\n",
       "      <th>E_AGE17</th>\n",
       "      <th>M_AGE17</th>\n",
       "      <th>E_DISABL</th>\n",
       "      <th>M_DISABL</th>\n",
       "      <th>E_SNGPNT</th>\n",
       "      <th>M_SNGPNT</th>\n",
       "      <th>E_MINRTY</th>\n",
       "      <th>M_MINRTY</th>\n",
       "      <th>E_LIMENG</th>\n",
       "      <th>M_LIMENG</th>\n",
       "      <th>E_MUNIT</th>\n",
       "      <th>M_MUNIT</th>\n",
       "      <th>E_MOBILE</th>\n",
       "      <th>M_MOBILE</th>\n",
       "      <th>E_CROWD</th>\n",
       "      <th>M_CROWD</th>\n",
       "      <th>E_NOVEH</th>\n",
       "      <th>M_NOVEH</th>\n",
       "      <th>E_GROUPQ</th>\n",
       "      <th>M_GROUPQ</th>\n",
       "      <th>EP_POV</th>\n",
       "      <th>MP_POV</th>\n",
       "      <th>EP_UNEMP</th>\n",
       "      <th>MP_UNEMP</th>\n",
       "      <th>EP_PCI</th>\n",
       "      <th>MP_PCI</th>\n",
       "      <th>EP_NOHSDP</th>\n",
       "      <th>MP_NOHSDP</th>\n",
       "      <th>EP_AGE65</th>\n",
       "      <th>MP_AGE65</th>\n",
       "      <th>EP_AGE17</th>\n",
       "      <th>MP_AGE17</th>\n",
       "      <th>EP_DISABL</th>\n",
       "      <th>MP_DISABL</th>\n",
       "      <th>EP_SNGPNT</th>\n",
       "      <th>MP_SNGPNT</th>\n",
       "      <th>EP_MINRTY</th>\n",
       "      <th>MP_MINRTY</th>\n",
       "      <th>EP_LIMENG</th>\n",
       "      <th>MP_LIMENG</th>\n",
       "      <th>EP_MUNIT</th>\n",
       "      <th>MP_MUNIT</th>\n",
       "      <th>EP_MOBILE</th>\n",
       "      <th>MP_MOBILE</th>\n",
       "      <th>EP_CROWD</th>\n",
       "      <th>MP_CROWD</th>\n",
       "      <th>EP_NOVEH</th>\n",
       "      <th>MP_NOVEH</th>\n",
       "      <th>EP_GROUPQ</th>\n",
       "      <th>MP_GROUPQ</th>\n",
       "      <th>EPL_POV</th>\n",
       "      <th>EPL_UNEMP</th>\n",
       "      <th>EPL_PCI</th>\n",
       "      <th>EPL_NOHSDP</th>\n",
       "      <th>SPL_THEME1</th>\n",
       "      <th>RPL_THEME1</th>\n",
       "      <th>EPL_AGE65</th>\n",
       "      <th>EPL_AGE17</th>\n",
       "      <th>EPL_DISABL</th>\n",
       "      <th>EPL_SNGPNT</th>\n",
       "      <th>SPL_THEME2</th>\n",
       "      <th>RPL_THEME2</th>\n",
       "      <th>EPL_MINRTY</th>\n",
       "      <th>EPL_LIMENG</th>\n",
       "      <th>SPL_THEME3</th>\n",
       "      <th>RPL_THEME3</th>\n",
       "      <th>EPL_MUNIT</th>\n",
       "      <th>EPL_MOBILE</th>\n",
       "      <th>EPL_CROWD</th>\n",
       "      <th>EPL_NOVEH</th>\n",
       "      <th>EPL_GROUPQ</th>\n",
       "      <th>SPL_THEME4</th>\n",
       "      <th>RPL_THEME4</th>\n",
       "      <th>SPL_THEMES</th>\n",
       "      <th>RPL_THEMES</th>\n",
       "      <th>F_POV</th>\n",
       "      <th>F_UNEMP</th>\n",
       "      <th>F_PCI</th>\n",
       "      <th>F_NOHSDP</th>\n",
       "      <th>F_THEME1</th>\n",
       "      <th>F_AGE65</th>\n",
       "      <th>F_AGE17</th>\n",
       "      <th>F_DISABL</th>\n",
       "      <th>F_SNGPNT</th>\n",
       "      <th>F_THEME2</th>\n",
       "      <th>F_MINRTY</th>\n",
       "      <th>F_LIMENG</th>\n",
       "      <th>F_THEME3</th>\n",
       "      <th>F_MUNIT</th>\n",
       "      <th>F_MOBILE</th>\n",
       "      <th>F_CROWD</th>\n",
       "      <th>F_NOVEH</th>\n",
       "      <th>F_GROUPQ</th>\n",
       "      <th>F_THEME4</th>\n",
       "      <th>F_TOTAL</th>\n",
       "      <th>E_UNINSUR</th>\n",
       "      <th>M_UNINSUR</th>\n",
       "      <th>EP_UNINSUR</th>\n",
       "      <th>MP_UNINSUR</th>\n",
       "      <th>E_DAYPOP</th>\n",
       "    </tr>\n",
       "    <tr>\n",
       "      <th>FID</th>\n",
       "      <th></th>\n",
       "      <th></th>\n",
       "      <th></th>\n",
       "      <th></th>\n",
       "      <th></th>\n",
       "      <th></th>\n",
       "      <th></th>\n",
       "      <th></th>\n",
       "      <th></th>\n",
       "      <th></th>\n",
       "      <th></th>\n",
       "      <th></th>\n",
       "      <th></th>\n",
       "      <th></th>\n",
       "      <th></th>\n",
       "      <th></th>\n",
       "      <th></th>\n",
       "      <th></th>\n",
       "      <th></th>\n",
       "      <th></th>\n",
       "      <th></th>\n",
       "      <th></th>\n",
       "      <th></th>\n",
       "      <th></th>\n",
       "      <th></th>\n",
       "      <th></th>\n",
       "      <th></th>\n",
       "      <th></th>\n",
       "      <th></th>\n",
       "      <th></th>\n",
       "      <th></th>\n",
       "      <th></th>\n",
       "      <th></th>\n",
       "      <th></th>\n",
       "      <th></th>\n",
       "      <th></th>\n",
       "      <th></th>\n",
       "      <th></th>\n",
       "      <th></th>\n",
       "      <th></th>\n",
       "      <th></th>\n",
       "      <th></th>\n",
       "      <th></th>\n",
       "      <th></th>\n",
       "      <th></th>\n",
       "      <th></th>\n",
       "      <th></th>\n",
       "      <th></th>\n",
       "      <th></th>\n",
       "      <th></th>\n",
       "      <th></th>\n",
       "      <th></th>\n",
       "      <th></th>\n",
       "      <th></th>\n",
       "      <th></th>\n",
       "      <th></th>\n",
       "      <th></th>\n",
       "      <th></th>\n",
       "      <th></th>\n",
       "      <th></th>\n",
       "      <th></th>\n",
       "      <th></th>\n",
       "      <th></th>\n",
       "      <th></th>\n",
       "      <th></th>\n",
       "      <th></th>\n",
       "      <th></th>\n",
       "      <th></th>\n",
       "      <th></th>\n",
       "      <th></th>\n",
       "      <th></th>\n",
       "      <th></th>\n",
       "      <th></th>\n",
       "      <th></th>\n",
       "      <th></th>\n",
       "      <th></th>\n",
       "      <th></th>\n",
       "      <th></th>\n",
       "      <th></th>\n",
       "      <th></th>\n",
       "      <th></th>\n",
       "      <th></th>\n",
       "      <th></th>\n",
       "      <th></th>\n",
       "      <th></th>\n",
       "      <th></th>\n",
       "      <th></th>\n",
       "      <th></th>\n",
       "      <th></th>\n",
       "      <th></th>\n",
       "      <th></th>\n",
       "      <th></th>\n",
       "      <th></th>\n",
       "      <th></th>\n",
       "      <th></th>\n",
       "      <th></th>\n",
       "      <th></th>\n",
       "      <th></th>\n",
       "      <th></th>\n",
       "      <th></th>\n",
       "      <th></th>\n",
       "      <th></th>\n",
       "      <th></th>\n",
       "      <th></th>\n",
       "      <th></th>\n",
       "      <th></th>\n",
       "      <th></th>\n",
       "      <th></th>\n",
       "      <th></th>\n",
       "      <th></th>\n",
       "      <th></th>\n",
       "      <th></th>\n",
       "      <th></th>\n",
       "      <th></th>\n",
       "      <th></th>\n",
       "      <th></th>\n",
       "      <th></th>\n",
       "      <th></th>\n",
       "      <th></th>\n",
       "      <th></th>\n",
       "      <th></th>\n",
       "      <th></th>\n",
       "      <th></th>\n",
       "      <th></th>\n",
       "    </tr>\n",
       "  </thead>\n",
       "  <tbody>\n",
       "    <tr>\n",
       "      <th>0</th>\n",
       "      <td>01</td>\n",
       "      <td>ALABAMA</td>\n",
       "      <td>AL</td>\n",
       "      <td>01015</td>\n",
       "      <td>Calhoun</td>\n",
       "      <td>01015981902</td>\n",
       "      <td>Census Tract 9819.02, Calhoun County, Alabama</td>\n",
       "      <td>34.644448</td>\n",
       "      <td>0.0</td>\n",
       "      <td>11.0</td>\n",
       "      <td>0.0</td>\n",
       "      <td>11.0</td>\n",
       "      <td>0.0</td>\n",
       "      <td>11.0</td>\n",
       "      <td>0.0</td>\n",
       "      <td>11.0</td>\n",
       "      <td>0.0</td>\n",
       "      <td>11.0</td>\n",
       "      <td>-999.0</td>\n",
       "      <td>-999.0</td>\n",
       "      <td>0.0</td>\n",
       "      <td>11.0</td>\n",
       "      <td>0.0</td>\n",
       "      <td>11.0</td>\n",
       "      <td>0.0</td>\n",
       "      <td>11.0</td>\n",
       "      <td>0.0</td>\n",
       "      <td>11.0</td>\n",
       "      <td>0.0</td>\n",
       "      <td>15.6</td>\n",
       "      <td>0.0</td>\n",
       "      <td>15.6</td>\n",
       "      <td>0.0</td>\n",
       "      <td>44.0</td>\n",
       "      <td>0.0</td>\n",
       "      <td>15.6</td>\n",
       "      <td>0.0</td>\n",
       "      <td>11.0</td>\n",
       "      <td>0.0</td>\n",
       "      <td>15.6</td>\n",
       "      <td>0.0</td>\n",
       "      <td>11.0</td>\n",
       "      <td>0.0</td>\n",
       "      <td>11.0</td>\n",
       "      <td>-999.0</td>\n",
       "      <td>-999.0</td>\n",
       "      <td>-999.0</td>\n",
       "      <td>-999.0</td>\n",
       "      <td>-999.0</td>\n",
       "      <td>-999.0</td>\n",
       "      <td>-999.0</td>\n",
       "      <td>-999.0</td>\n",
       "      <td>-999.0</td>\n",
       "      <td>-999.0</td>\n",
       "      <td>0.0</td>\n",
       "      <td>-999.0</td>\n",
       "      <td>-999.0</td>\n",
       "      <td>-999.0</td>\n",
       "      <td>0.0</td>\n",
       "      <td>-999.0</td>\n",
       "      <td>0.0</td>\n",
       "      <td>-999.0</td>\n",
       "      <td>0.0</td>\n",
       "      <td>-999.0</td>\n",
       "      <td>0.0</td>\n",
       "      <td>-999.0</td>\n",
       "      <td>-999.0</td>\n",
       "      <td>-999.0</td>\n",
       "      <td>0.0</td>\n",
       "      <td>-999.0</td>\n",
       "      <td>-999.0</td>\n",
       "      <td>-999.0</td>\n",
       "      <td>0.0</td>\n",
       "      <td>-999.0</td>\n",
       "      <td>-999.0</td>\n",
       "      <td>-999.0</td>\n",
       "      <td>-999.0</td>\n",
       "      <td>-999.0</td>\n",
       "      <td>-999.0</td>\n",
       "      <td>-999.0</td>\n",
       "      <td>-999.0</td>\n",
       "      <td>-999.0</td>\n",
       "      <td>-999.0</td>\n",
       "      <td>-999.0</td>\n",
       "      <td>-999.0</td>\n",
       "      <td>-999.0</td>\n",
       "      <td>-999.0</td>\n",
       "      <td>-999.0</td>\n",
       "      <td>-999.0</td>\n",
       "      <td>-999.0</td>\n",
       "      <td>-999.0</td>\n",
       "      <td>-999.0</td>\n",
       "      <td>-999.0</td>\n",
       "      <td>-999.0</td>\n",
       "      <td>-999.0</td>\n",
       "      <td>-999.0</td>\n",
       "      <td>-999.0</td>\n",
       "      <td>-999.0</td>\n",
       "      <td>-999.0</td>\n",
       "      <td>-999.0</td>\n",
       "      <td>-999.0</td>\n",
       "      <td>-999.0</td>\n",
       "      <td>-999.0</td>\n",
       "      <td>-999.0</td>\n",
       "      <td>-999.0</td>\n",
       "      <td>-999.0</td>\n",
       "      <td>-999.0</td>\n",
       "      <td>-999.0</td>\n",
       "      <td>-999.0</td>\n",
       "      <td>-999.0</td>\n",
       "      <td>-999.0</td>\n",
       "      <td>-999.0</td>\n",
       "      <td>-999.0</td>\n",
       "      <td>-999.0</td>\n",
       "      <td>-999.0</td>\n",
       "      <td>-999.0</td>\n",
       "      <td>-999.0</td>\n",
       "      <td>-999.0</td>\n",
       "      <td>-999.0</td>\n",
       "      <td>0.0</td>\n",
       "      <td>11.0</td>\n",
       "      <td>-999.0</td>\n",
       "      <td>-999.0</td>\n",
       "      <td>335.0</td>\n",
       "    </tr>\n",
       "    <tr>\n",
       "      <th>1</th>\n",
       "      <td>01</td>\n",
       "      <td>ALABAMA</td>\n",
       "      <td>AL</td>\n",
       "      <td>01015</td>\n",
       "      <td>Calhoun</td>\n",
       "      <td>01015981903</td>\n",
       "      <td>Census Tract 9819.03, Calhoun County, Alabama</td>\n",
       "      <td>13.929908</td>\n",
       "      <td>0.0</td>\n",
       "      <td>11.0</td>\n",
       "      <td>0.0</td>\n",
       "      <td>11.0</td>\n",
       "      <td>0.0</td>\n",
       "      <td>11.0</td>\n",
       "      <td>0.0</td>\n",
       "      <td>11.0</td>\n",
       "      <td>0.0</td>\n",
       "      <td>11.0</td>\n",
       "      <td>-999.0</td>\n",
       "      <td>-999.0</td>\n",
       "      <td>0.0</td>\n",
       "      <td>11.0</td>\n",
       "      <td>0.0</td>\n",
       "      <td>11.0</td>\n",
       "      <td>0.0</td>\n",
       "      <td>11.0</td>\n",
       "      <td>0.0</td>\n",
       "      <td>11.0</td>\n",
       "      <td>0.0</td>\n",
       "      <td>15.6</td>\n",
       "      <td>0.0</td>\n",
       "      <td>15.6</td>\n",
       "      <td>0.0</td>\n",
       "      <td>44.0</td>\n",
       "      <td>0.0</td>\n",
       "      <td>15.6</td>\n",
       "      <td>0.0</td>\n",
       "      <td>11.0</td>\n",
       "      <td>0.0</td>\n",
       "      <td>15.6</td>\n",
       "      <td>0.0</td>\n",
       "      <td>11.0</td>\n",
       "      <td>0.0</td>\n",
       "      <td>11.0</td>\n",
       "      <td>-999.0</td>\n",
       "      <td>-999.0</td>\n",
       "      <td>-999.0</td>\n",
       "      <td>-999.0</td>\n",
       "      <td>-999.0</td>\n",
       "      <td>-999.0</td>\n",
       "      <td>-999.0</td>\n",
       "      <td>-999.0</td>\n",
       "      <td>-999.0</td>\n",
       "      <td>-999.0</td>\n",
       "      <td>0.0</td>\n",
       "      <td>-999.0</td>\n",
       "      <td>-999.0</td>\n",
       "      <td>-999.0</td>\n",
       "      <td>0.0</td>\n",
       "      <td>-999.0</td>\n",
       "      <td>0.0</td>\n",
       "      <td>-999.0</td>\n",
       "      <td>0.0</td>\n",
       "      <td>-999.0</td>\n",
       "      <td>0.0</td>\n",
       "      <td>-999.0</td>\n",
       "      <td>-999.0</td>\n",
       "      <td>-999.0</td>\n",
       "      <td>0.0</td>\n",
       "      <td>-999.0</td>\n",
       "      <td>-999.0</td>\n",
       "      <td>-999.0</td>\n",
       "      <td>0.0</td>\n",
       "      <td>-999.0</td>\n",
       "      <td>-999.0</td>\n",
       "      <td>-999.0</td>\n",
       "      <td>-999.0</td>\n",
       "      <td>-999.0</td>\n",
       "      <td>-999.0</td>\n",
       "      <td>-999.0</td>\n",
       "      <td>-999.0</td>\n",
       "      <td>-999.0</td>\n",
       "      <td>-999.0</td>\n",
       "      <td>-999.0</td>\n",
       "      <td>-999.0</td>\n",
       "      <td>-999.0</td>\n",
       "      <td>-999.0</td>\n",
       "      <td>-999.0</td>\n",
       "      <td>-999.0</td>\n",
       "      <td>-999.0</td>\n",
       "      <td>-999.0</td>\n",
       "      <td>-999.0</td>\n",
       "      <td>-999.0</td>\n",
       "      <td>-999.0</td>\n",
       "      <td>-999.0</td>\n",
       "      <td>-999.0</td>\n",
       "      <td>-999.0</td>\n",
       "      <td>-999.0</td>\n",
       "      <td>-999.0</td>\n",
       "      <td>-999.0</td>\n",
       "      <td>-999.0</td>\n",
       "      <td>-999.0</td>\n",
       "      <td>-999.0</td>\n",
       "      <td>-999.0</td>\n",
       "      <td>-999.0</td>\n",
       "      <td>-999.0</td>\n",
       "      <td>-999.0</td>\n",
       "      <td>-999.0</td>\n",
       "      <td>-999.0</td>\n",
       "      <td>-999.0</td>\n",
       "      <td>-999.0</td>\n",
       "      <td>-999.0</td>\n",
       "      <td>-999.0</td>\n",
       "      <td>-999.0</td>\n",
       "      <td>-999.0</td>\n",
       "      <td>-999.0</td>\n",
       "      <td>-999.0</td>\n",
       "      <td>-999.0</td>\n",
       "      <td>-999.0</td>\n",
       "      <td>0.0</td>\n",
       "      <td>11.0</td>\n",
       "      <td>-999.0</td>\n",
       "      <td>-999.0</td>\n",
       "      <td>0.0</td>\n",
       "    </tr>\n",
       "    <tr>\n",
       "      <th>2</th>\n",
       "      <td>01</td>\n",
       "      <td>ALABAMA</td>\n",
       "      <td>AL</td>\n",
       "      <td>01097</td>\n",
       "      <td>Mobile</td>\n",
       "      <td>01097990000</td>\n",
       "      <td>Census Tract 9900, Mobile County, Alabama</td>\n",
       "      <td>0.000000</td>\n",
       "      <td>0.0</td>\n",
       "      <td>11.0</td>\n",
       "      <td>0.0</td>\n",
       "      <td>11.0</td>\n",
       "      <td>0.0</td>\n",
       "      <td>11.0</td>\n",
       "      <td>0.0</td>\n",
       "      <td>11.0</td>\n",
       "      <td>0.0</td>\n",
       "      <td>11.0</td>\n",
       "      <td>-999.0</td>\n",
       "      <td>-999.0</td>\n",
       "      <td>0.0</td>\n",
       "      <td>11.0</td>\n",
       "      <td>0.0</td>\n",
       "      <td>11.0</td>\n",
       "      <td>0.0</td>\n",
       "      <td>11.0</td>\n",
       "      <td>0.0</td>\n",
       "      <td>11.0</td>\n",
       "      <td>0.0</td>\n",
       "      <td>15.6</td>\n",
       "      <td>0.0</td>\n",
       "      <td>15.6</td>\n",
       "      <td>0.0</td>\n",
       "      <td>44.0</td>\n",
       "      <td>0.0</td>\n",
       "      <td>15.6</td>\n",
       "      <td>0.0</td>\n",
       "      <td>11.0</td>\n",
       "      <td>0.0</td>\n",
       "      <td>15.6</td>\n",
       "      <td>0.0</td>\n",
       "      <td>11.0</td>\n",
       "      <td>0.0</td>\n",
       "      <td>11.0</td>\n",
       "      <td>-999.0</td>\n",
       "      <td>-999.0</td>\n",
       "      <td>-999.0</td>\n",
       "      <td>-999.0</td>\n",
       "      <td>-999.0</td>\n",
       "      <td>-999.0</td>\n",
       "      <td>-999.0</td>\n",
       "      <td>-999.0</td>\n",
       "      <td>-999.0</td>\n",
       "      <td>-999.0</td>\n",
       "      <td>0.0</td>\n",
       "      <td>-999.0</td>\n",
       "      <td>-999.0</td>\n",
       "      <td>-999.0</td>\n",
       "      <td>0.0</td>\n",
       "      <td>-999.0</td>\n",
       "      <td>0.0</td>\n",
       "      <td>-999.0</td>\n",
       "      <td>0.0</td>\n",
       "      <td>-999.0</td>\n",
       "      <td>0.0</td>\n",
       "      <td>-999.0</td>\n",
       "      <td>-999.0</td>\n",
       "      <td>-999.0</td>\n",
       "      <td>0.0</td>\n",
       "      <td>-999.0</td>\n",
       "      <td>-999.0</td>\n",
       "      <td>-999.0</td>\n",
       "      <td>0.0</td>\n",
       "      <td>-999.0</td>\n",
       "      <td>-999.0</td>\n",
       "      <td>-999.0</td>\n",
       "      <td>-999.0</td>\n",
       "      <td>-999.0</td>\n",
       "      <td>-999.0</td>\n",
       "      <td>-999.0</td>\n",
       "      <td>-999.0</td>\n",
       "      <td>-999.0</td>\n",
       "      <td>-999.0</td>\n",
       "      <td>-999.0</td>\n",
       "      <td>-999.0</td>\n",
       "      <td>-999.0</td>\n",
       "      <td>-999.0</td>\n",
       "      <td>-999.0</td>\n",
       "      <td>-999.0</td>\n",
       "      <td>-999.0</td>\n",
       "      <td>-999.0</td>\n",
       "      <td>-999.0</td>\n",
       "      <td>-999.0</td>\n",
       "      <td>-999.0</td>\n",
       "      <td>-999.0</td>\n",
       "      <td>-999.0</td>\n",
       "      <td>-999.0</td>\n",
       "      <td>-999.0</td>\n",
       "      <td>-999.0</td>\n",
       "      <td>-999.0</td>\n",
       "      <td>-999.0</td>\n",
       "      <td>-999.0</td>\n",
       "      <td>-999.0</td>\n",
       "      <td>-999.0</td>\n",
       "      <td>-999.0</td>\n",
       "      <td>-999.0</td>\n",
       "      <td>-999.0</td>\n",
       "      <td>-999.0</td>\n",
       "      <td>-999.0</td>\n",
       "      <td>-999.0</td>\n",
       "      <td>-999.0</td>\n",
       "      <td>-999.0</td>\n",
       "      <td>-999.0</td>\n",
       "      <td>-999.0</td>\n",
       "      <td>-999.0</td>\n",
       "      <td>-999.0</td>\n",
       "      <td>-999.0</td>\n",
       "      <td>-999.0</td>\n",
       "      <td>-999.0</td>\n",
       "      <td>0.0</td>\n",
       "      <td>11.0</td>\n",
       "      <td>-999.0</td>\n",
       "      <td>-999.0</td>\n",
       "      <td>0.0</td>\n",
       "    </tr>\n",
       "  </tbody>\n",
       "</table>\n",
       "</div>"
      ],
      "text/plain": [
       "     ST    STATE ST_ABBR STCNTY   COUNTY         FIPS  \\\n",
       "FID                                                     \n",
       "0    01  ALABAMA      AL  01015  Calhoun  01015981902   \n",
       "1    01  ALABAMA      AL  01015  Calhoun  01015981903   \n",
       "2    01  ALABAMA      AL  01097   Mobile  01097990000   \n",
       "\n",
       "                                          LOCATION  AREA_SQMI  E_TOTPOP  \\\n",
       "FID                                                                       \n",
       "0    Census Tract 9819.02, Calhoun County, Alabama  34.644448       0.0   \n",
       "1    Census Tract 9819.03, Calhoun County, Alabama  13.929908       0.0   \n",
       "2        Census Tract 9900, Mobile County, Alabama   0.000000       0.0   \n",
       "\n",
       "     M_TOTPOP  E_HU  M_HU  E_HH  M_HH  E_POV  M_POV  E_UNEMP  M_UNEMP  E_PCI  \\\n",
       "FID                                                                            \n",
       "0        11.0   0.0  11.0   0.0  11.0    0.0   11.0      0.0     11.0 -999.0   \n",
       "1        11.0   0.0  11.0   0.0  11.0    0.0   11.0      0.0     11.0 -999.0   \n",
       "2        11.0   0.0  11.0   0.0  11.0    0.0   11.0      0.0     11.0 -999.0   \n",
       "\n",
       "     M_PCI  E_NOHSDP  M_NOHSDP  E_AGE65  M_AGE65  E_AGE17  M_AGE17  E_DISABL  \\\n",
       "FID                                                                            \n",
       "0   -999.0       0.0      11.0      0.0     11.0      0.0     11.0       0.0   \n",
       "1   -999.0       0.0      11.0      0.0     11.0      0.0     11.0       0.0   \n",
       "2   -999.0       0.0      11.0      0.0     11.0      0.0     11.0       0.0   \n",
       "\n",
       "     M_DISABL  E_SNGPNT  M_SNGPNT  E_MINRTY  M_MINRTY  E_LIMENG  M_LIMENG  \\\n",
       "FID                                                                         \n",
       "0        11.0       0.0      15.6       0.0      15.6       0.0      44.0   \n",
       "1        11.0       0.0      15.6       0.0      15.6       0.0      44.0   \n",
       "2        11.0       0.0      15.6       0.0      15.6       0.0      44.0   \n",
       "\n",
       "     E_MUNIT  M_MUNIT  E_MOBILE  M_MOBILE  E_CROWD  M_CROWD  E_NOVEH  M_NOVEH  \\\n",
       "FID                                                                             \n",
       "0        0.0     15.6       0.0      11.0      0.0     15.6      0.0     11.0   \n",
       "1        0.0     15.6       0.0      11.0      0.0     15.6      0.0     11.0   \n",
       "2        0.0     15.6       0.0      11.0      0.0     15.6      0.0     11.0   \n",
       "\n",
       "     E_GROUPQ  M_GROUPQ  EP_POV  MP_POV  EP_UNEMP  MP_UNEMP  EP_PCI  MP_PCI  \\\n",
       "FID                                                                           \n",
       "0         0.0      11.0  -999.0  -999.0    -999.0    -999.0  -999.0  -999.0   \n",
       "1         0.0      11.0  -999.0  -999.0    -999.0    -999.0  -999.0  -999.0   \n",
       "2         0.0      11.0  -999.0  -999.0    -999.0    -999.0  -999.0  -999.0   \n",
       "\n",
       "     EP_NOHSDP  MP_NOHSDP  EP_AGE65  MP_AGE65  EP_AGE17  MP_AGE17  EP_DISABL  \\\n",
       "FID                                                                            \n",
       "0       -999.0     -999.0    -999.0    -999.0       0.0    -999.0     -999.0   \n",
       "1       -999.0     -999.0    -999.0    -999.0       0.0    -999.0     -999.0   \n",
       "2       -999.0     -999.0    -999.0    -999.0       0.0    -999.0     -999.0   \n",
       "\n",
       "     MP_DISABL  EP_SNGPNT  MP_SNGPNT  EP_MINRTY  MP_MINRTY  EP_LIMENG  \\\n",
       "FID                                                                     \n",
       "0       -999.0        0.0     -999.0        0.0     -999.0        0.0   \n",
       "1       -999.0        0.0     -999.0        0.0     -999.0        0.0   \n",
       "2       -999.0        0.0     -999.0        0.0     -999.0        0.0   \n",
       "\n",
       "     MP_LIMENG  EP_MUNIT  MP_MUNIT  EP_MOBILE  MP_MOBILE  EP_CROWD  MP_CROWD  \\\n",
       "FID                                                                            \n",
       "0       -999.0       0.0    -999.0     -999.0     -999.0       0.0    -999.0   \n",
       "1       -999.0       0.0    -999.0     -999.0     -999.0       0.0    -999.0   \n",
       "2       -999.0       0.0    -999.0     -999.0     -999.0       0.0    -999.0   \n",
       "\n",
       "     EP_NOVEH  MP_NOVEH  EP_GROUPQ  MP_GROUPQ  EPL_POV  EPL_UNEMP  EPL_PCI  \\\n",
       "FID                                                                          \n",
       "0      -999.0    -999.0        0.0     -999.0   -999.0     -999.0   -999.0   \n",
       "1      -999.0    -999.0        0.0     -999.0   -999.0     -999.0   -999.0   \n",
       "2      -999.0    -999.0        0.0     -999.0   -999.0     -999.0   -999.0   \n",
       "\n",
       "     EPL_NOHSDP  SPL_THEME1  RPL_THEME1  EPL_AGE65  EPL_AGE17  EPL_DISABL  \\\n",
       "FID                                                                         \n",
       "0        -999.0      -999.0      -999.0     -999.0     -999.0      -999.0   \n",
       "1        -999.0      -999.0      -999.0     -999.0     -999.0      -999.0   \n",
       "2        -999.0      -999.0      -999.0     -999.0     -999.0      -999.0   \n",
       "\n",
       "     EPL_SNGPNT  SPL_THEME2  RPL_THEME2  EPL_MINRTY  EPL_LIMENG  SPL_THEME3  \\\n",
       "FID                                                                           \n",
       "0        -999.0      -999.0      -999.0      -999.0      -999.0      -999.0   \n",
       "1        -999.0      -999.0      -999.0      -999.0      -999.0      -999.0   \n",
       "2        -999.0      -999.0      -999.0      -999.0      -999.0      -999.0   \n",
       "\n",
       "     RPL_THEME3  EPL_MUNIT  EPL_MOBILE  EPL_CROWD  EPL_NOVEH  EPL_GROUPQ  \\\n",
       "FID                                                                        \n",
       "0        -999.0     -999.0      -999.0     -999.0     -999.0      -999.0   \n",
       "1        -999.0     -999.0      -999.0     -999.0     -999.0      -999.0   \n",
       "2        -999.0     -999.0      -999.0     -999.0     -999.0      -999.0   \n",
       "\n",
       "     SPL_THEME4  RPL_THEME4  SPL_THEMES  RPL_THEMES  F_POV  F_UNEMP  F_PCI  \\\n",
       "FID                                                                          \n",
       "0        -999.0      -999.0      -999.0      -999.0 -999.0   -999.0 -999.0   \n",
       "1        -999.0      -999.0      -999.0      -999.0 -999.0   -999.0 -999.0   \n",
       "2        -999.0      -999.0      -999.0      -999.0 -999.0   -999.0 -999.0   \n",
       "\n",
       "     F_NOHSDP  F_THEME1  F_AGE65  F_AGE17  F_DISABL  F_SNGPNT  F_THEME2  \\\n",
       "FID                                                                       \n",
       "0      -999.0    -999.0   -999.0   -999.0    -999.0    -999.0    -999.0   \n",
       "1      -999.0    -999.0   -999.0   -999.0    -999.0    -999.0    -999.0   \n",
       "2      -999.0    -999.0   -999.0   -999.0    -999.0    -999.0    -999.0   \n",
       "\n",
       "     F_MINRTY  F_LIMENG  F_THEME3  F_MUNIT  F_MOBILE  F_CROWD  F_NOVEH  \\\n",
       "FID                                                                      \n",
       "0      -999.0    -999.0    -999.0   -999.0    -999.0   -999.0   -999.0   \n",
       "1      -999.0    -999.0    -999.0   -999.0    -999.0   -999.0   -999.0   \n",
       "2      -999.0    -999.0    -999.0   -999.0    -999.0   -999.0   -999.0   \n",
       "\n",
       "     F_GROUPQ  F_THEME4  F_TOTAL  E_UNINSUR  M_UNINSUR  EP_UNINSUR  \\\n",
       "FID                                                                  \n",
       "0      -999.0    -999.0   -999.0        0.0       11.0      -999.0   \n",
       "1      -999.0    -999.0   -999.0        0.0       11.0      -999.0   \n",
       "2      -999.0    -999.0   -999.0        0.0       11.0      -999.0   \n",
       "\n",
       "     MP_UNINSUR  E_DAYPOP  \n",
       "FID                        \n",
       "0        -999.0     335.0  \n",
       "1        -999.0       0.0  \n",
       "2        -999.0       0.0  "
      ]
     },
     "execution_count": 12,
     "metadata": {},
     "output_type": "execute_result"
    }
   ],
   "source": [
    "svi2016.head(3)"
   ]
  },
  {
   "cell_type": "markdown",
   "metadata": {},
   "source": [
    "## Aggregate nfirs by county & calculate per-capita rates\n",
    "\n",
    "- Task 1: <b>Home Fire County Assessment</b>: Score and rank order counties based on highest fire rates per-capita using NFIRS Data (aggregate) and SVI population estimates\n",
    "- Task 3: <b>Home Fire Severity Assessment (county)</b>: Score and rank order counties based on rates of severe fires per-capita using NFIRS Data (aggregate) and SVI population estimates."
   ]
  },
  {
   "cell_type": "code",
   "execution_count": 13,
   "metadata": {},
   "outputs": [
    {
     "name": "stderr",
     "output_type": "stream",
     "text": [
      "C:\\Users\\thwhi\\Anaconda3\\lib\\site-packages\\pandas\\core\\reshape\\merge.py:522: UserWarning: merging between different levels can give an unintended result (1 levels on the left, 2 on the right)\n",
      "  warnings.warn(msg, UserWarning)\n"
     ]
    }
   ],
   "source": [
    "# add the state+county unique identifier column to nfirs\n",
    "nfirs['STCNTY'] = nfirs['GEOID'].str[:5]\n",
    "\n",
    "# Do frequency counts based on the year & the number of severe vs non-severe fires\n",
    "nfirs_counties = pd.crosstab(nfirs['STCNTY'],[nfirs['year'],nfirs['severe_fire']])\n",
    "\n",
    "# Iterate through years and calculate the total number of fires\n",
    "for year in [2009,2010,2011,2012,2013,2014,2015,2016]:\n",
    "    nfirs_counties[(year,'tot_fires')] = nfirs_counties[(year,'not_sev_fire')] + nfirs_counties[(year,'sev_fire')]\n",
    "\n",
    "# Sort the columns\n",
    "nfirs_counties = nfirs_counties[sorted(nfirs_counties.columns)]\n",
    "\n",
    "# aggregate svi data by county\n",
    "svi2016_counties = svi2016.groupby('STCNTY').agg({'E_TOTPOP':'sum'})\n",
    "\n",
    "# add nfirs data to svi data and insure it's a one-to-one merge\n",
    "nfirs_svi_counties = svi2016_counties.merge(nfirs_counties,how='left',left_index=True,right_index=True, validate='one_to_one')\n",
    "\n",
    "nfirs_svi_counties_rates = nfirs_svi_counties[['E_TOTPOP']].copy()\n",
    "\n",
    "# Calculate the per capita fire rates\n",
    "for year in [2009,2010,2011,2012,2013,2014,2015,2016]:\n",
    "    nfirs_svi_counties_rates[str(year) + '_tot_fire_rate_per_cap'] = nfirs_svi_counties[(year,'tot_fires')] / nfirs_svi_counties['E_TOTPOP']\n",
    "    nfirs_svi_counties_rates[str(year) + '_sev_fire_rate_per_cap'] = nfirs_svi_counties[(year,'sev_fire')] / nfirs_svi_counties['E_TOTPOP']\n",
    "\n",
    "# Add the county and state columns to the dataset\n",
    "nfirs_svi_counties_rates = nfirs_svi_counties_rates.merge(svi2016[['COUNTY','ST_ABBR','STCNTY']].drop_duplicates(subset='STCNTY'),how='left',left_index=True,right_on='STCNTY')\n",
    "nfirs_svi_counties_rates = nfirs_svi_counties_rates.set_index('STCNTY')\n",
    "\n",
    "# create list of severe columns & total columns\n",
    "sev_cols = nfirs_svi_counties_rates.columns[nfirs_svi_counties_rates.columns.str.contains('sev_')]\n",
    "tot_cols = nfirs_svi_counties_rates.columns[nfirs_svi_counties_rates.columns.str.contains('tot_')]\n",
    "\n",
    "# calculate mean and standard deviation from 2009-2016\n",
    "nfirs_svi_counties_rates['avg_sev_fire_rate_per_cap'] = nfirs_svi_counties_rates[sev_cols].mean(axis=1)\n",
    "nfirs_svi_counties_rates['std_sev_fire_rate_per_cap'] = nfirs_svi_counties_rates[sev_cols].std(axis=1)\n",
    "nfirs_svi_counties_rates['avg_tot_fire_rate_per_cap'] = nfirs_svi_counties_rates[tot_cols].mean(axis=1)\n",
    "nfirs_svi_counties_rates['std_tot_fire_rate_per_cap'] = nfirs_svi_counties_rates[tot_cols].std(axis=1)\n",
    "\n",
    "# Rearrange columns\n",
    "first_cols = ['ST_ABBR','COUNTY','E_TOTPOP','avg_tot_fire_rate_per_cap','std_tot_fire_rate_per_cap',\n",
    "              'avg_sev_fire_rate_per_cap','std_sev_fire_rate_per_cap']\n",
    "cols = list(nfirs_svi_counties_rates.columns)\n",
    "cols = first_cols + [col for col in cols if col not in first_cols]\n",
    "nfirs_svi_counties_rates = nfirs_svi_counties_rates[cols]"
   ]
  },
  {
   "cell_type": "code",
   "execution_count": null,
   "metadata": {},
   "outputs": [],
   "source": []
  },
  {
   "cell_type": "markdown",
   "metadata": {},
   "source": [
    "# County Level Learning Models"
   ]
  },
  {
   "cell_type": "code",
   "execution_count": 14,
   "metadata": {},
   "outputs": [],
   "source": [
    "years_sev_fires = [(year,'sev_fire') for year in range(2009,2017)]\n",
    "\n",
    "nfirs_counties_sev = nfirs_counties[years_sev_fires]\n",
    "\n",
    "nfirs_counties_sev.columns = range(2009,2017)"
   ]
  },
  {
   "cell_type": "code",
   "execution_count": 15,
   "metadata": {},
   "outputs": [
    {
     "name": "stderr",
     "output_type": "stream",
     "text": [
      "C:\\Users\\thwhi\\Anaconda3\\lib\\site-packages\\ipykernel_launcher.py:1: SettingWithCopyWarning: \n",
      "A value is trying to be set on a copy of a slice from a DataFrame.\n",
      "Try using .loc[row_indexer,col_indexer] = value instead\n",
      "\n",
      "See the caveats in the documentation: http://pandas.pydata.org/pandas-docs/stable/indexing.html#indexing-view-versus-copy\n",
      "  \"\"\"Entry point for launching an IPython kernel.\n"
     ]
    }
   ],
   "source": [
    "nfirs_counties_sev['total'] = nfirs_counties_sev.sum(axis=1)"
   ]
  },
  {
   "cell_type": "code",
   "execution_count": 16,
   "metadata": {},
   "outputs": [
    {
     "data": {
      "text/html": [
       "<div>\n",
       "<style scoped>\n",
       "    .dataframe tbody tr th:only-of-type {\n",
       "        vertical-align: middle;\n",
       "    }\n",
       "\n",
       "    .dataframe tbody tr th {\n",
       "        vertical-align: top;\n",
       "    }\n",
       "\n",
       "    .dataframe thead th {\n",
       "        text-align: right;\n",
       "    }\n",
       "</style>\n",
       "<table border=\"1\" class=\"dataframe\">\n",
       "  <thead>\n",
       "    <tr style=\"text-align: right;\">\n",
       "      <th></th>\n",
       "      <th>2009</th>\n",
       "      <th>2010</th>\n",
       "      <th>2011</th>\n",
       "      <th>2012</th>\n",
       "      <th>2013</th>\n",
       "      <th>2014</th>\n",
       "      <th>2015</th>\n",
       "      <th>2016</th>\n",
       "      <th>total</th>\n",
       "    </tr>\n",
       "    <tr>\n",
       "      <th>STCNTY</th>\n",
       "      <th></th>\n",
       "      <th></th>\n",
       "      <th></th>\n",
       "      <th></th>\n",
       "      <th></th>\n",
       "      <th></th>\n",
       "      <th></th>\n",
       "      <th></th>\n",
       "      <th></th>\n",
       "    </tr>\n",
       "  </thead>\n",
       "  <tbody>\n",
       "    <tr>\n",
       "      <th>01001</th>\n",
       "      <td>13</td>\n",
       "      <td>9</td>\n",
       "      <td>7</td>\n",
       "      <td>2</td>\n",
       "      <td>4</td>\n",
       "      <td>2</td>\n",
       "      <td>9</td>\n",
       "      <td>8</td>\n",
       "      <td>54</td>\n",
       "    </tr>\n",
       "    <tr>\n",
       "      <th>01003</th>\n",
       "      <td>16</td>\n",
       "      <td>15</td>\n",
       "      <td>20</td>\n",
       "      <td>13</td>\n",
       "      <td>10</td>\n",
       "      <td>25</td>\n",
       "      <td>17</td>\n",
       "      <td>15</td>\n",
       "      <td>131</td>\n",
       "    </tr>\n",
       "    <tr>\n",
       "      <th>01005</th>\n",
       "      <td>3</td>\n",
       "      <td>0</td>\n",
       "      <td>0</td>\n",
       "      <td>5</td>\n",
       "      <td>0</td>\n",
       "      <td>6</td>\n",
       "      <td>0</td>\n",
       "      <td>1</td>\n",
       "      <td>15</td>\n",
       "    </tr>\n",
       "    <tr>\n",
       "      <th>01007</th>\n",
       "      <td>1</td>\n",
       "      <td>1</td>\n",
       "      <td>1</td>\n",
       "      <td>1</td>\n",
       "      <td>0</td>\n",
       "      <td>0</td>\n",
       "      <td>0</td>\n",
       "      <td>2</td>\n",
       "      <td>6</td>\n",
       "    </tr>\n",
       "    <tr>\n",
       "      <th>01009</th>\n",
       "      <td>4</td>\n",
       "      <td>4</td>\n",
       "      <td>14</td>\n",
       "      <td>5</td>\n",
       "      <td>4</td>\n",
       "      <td>4</td>\n",
       "      <td>4</td>\n",
       "      <td>5</td>\n",
       "      <td>44</td>\n",
       "    </tr>\n",
       "  </tbody>\n",
       "</table>\n",
       "</div>"
      ],
      "text/plain": [
       "        2009  2010  2011  2012  2013  2014  2015  2016  total\n",
       "STCNTY                                                       \n",
       "01001     13     9     7     2     4     2     9     8     54\n",
       "01003     16    15    20    13    10    25    17    15    131\n",
       "01005      3     0     0     5     0     6     0     1     15\n",
       "01007      1     1     1     1     0     0     0     2      6\n",
       "01009      4     4    14     5     4     4     4     5     44"
      ]
     },
     "execution_count": 16,
     "metadata": {},
     "output_type": "execute_result"
    }
   ],
   "source": [
    "nfirs_counties_sev.head()"
   ]
  },
  {
   "cell_type": "code",
   "execution_count": 17,
   "metadata": {},
   "outputs": [
    {
     "data": {
      "text/html": [
       "<div>\n",
       "<style scoped>\n",
       "    .dataframe tbody tr th:only-of-type {\n",
       "        vertical-align: middle;\n",
       "    }\n",
       "\n",
       "    .dataframe tbody tr th {\n",
       "        vertical-align: top;\n",
       "    }\n",
       "\n",
       "    .dataframe thead th {\n",
       "        text-align: right;\n",
       "    }\n",
       "</style>\n",
       "<table border=\"1\" class=\"dataframe\">\n",
       "  <thead>\n",
       "    <tr style=\"text-align: right;\">\n",
       "      <th></th>\n",
       "      <th>2009</th>\n",
       "      <th>2010</th>\n",
       "      <th>2011</th>\n",
       "      <th>2012</th>\n",
       "      <th>2013</th>\n",
       "      <th>2014</th>\n",
       "      <th>2015</th>\n",
       "      <th>2016</th>\n",
       "      <th>total</th>\n",
       "    </tr>\n",
       "  </thead>\n",
       "  <tbody>\n",
       "    <tr>\n",
       "      <th>count</th>\n",
       "      <td>3013.00</td>\n",
       "      <td>3013.00</td>\n",
       "      <td>3013.00</td>\n",
       "      <td>3013.00</td>\n",
       "      <td>3013.00</td>\n",
       "      <td>3013.00</td>\n",
       "      <td>3013.00</td>\n",
       "      <td>3013.00</td>\n",
       "      <td>3013.00</td>\n",
       "    </tr>\n",
       "    <tr>\n",
       "      <th>mean</th>\n",
       "      <td>12.60</td>\n",
       "      <td>13.35</td>\n",
       "      <td>12.87</td>\n",
       "      <td>13.00</td>\n",
       "      <td>13.86</td>\n",
       "      <td>15.72</td>\n",
       "      <td>15.30</td>\n",
       "      <td>12.98</td>\n",
       "      <td>109.68</td>\n",
       "    </tr>\n",
       "    <tr>\n",
       "      <th>std</th>\n",
       "      <td>46.95</td>\n",
       "      <td>47.40</td>\n",
       "      <td>38.90</td>\n",
       "      <td>45.68</td>\n",
       "      <td>47.55</td>\n",
       "      <td>51.78</td>\n",
       "      <td>48.96</td>\n",
       "      <td>37.56</td>\n",
       "      <td>354.36</td>\n",
       "    </tr>\n",
       "    <tr>\n",
       "      <th>min</th>\n",
       "      <td>0.00</td>\n",
       "      <td>0.00</td>\n",
       "      <td>0.00</td>\n",
       "      <td>0.00</td>\n",
       "      <td>0.00</td>\n",
       "      <td>0.00</td>\n",
       "      <td>0.00</td>\n",
       "      <td>0.00</td>\n",
       "      <td>0.00</td>\n",
       "    </tr>\n",
       "    <tr>\n",
       "      <th>25%</th>\n",
       "      <td>0.00</td>\n",
       "      <td>0.00</td>\n",
       "      <td>0.00</td>\n",
       "      <td>0.00</td>\n",
       "      <td>0.00</td>\n",
       "      <td>1.00</td>\n",
       "      <td>1.00</td>\n",
       "      <td>1.00</td>\n",
       "      <td>7.00</td>\n",
       "    </tr>\n",
       "    <tr>\n",
       "      <th>50%</th>\n",
       "      <td>3.00</td>\n",
       "      <td>3.00</td>\n",
       "      <td>3.00</td>\n",
       "      <td>3.00</td>\n",
       "      <td>3.00</td>\n",
       "      <td>4.00</td>\n",
       "      <td>4.00</td>\n",
       "      <td>4.00</td>\n",
       "      <td>29.00</td>\n",
       "    </tr>\n",
       "    <tr>\n",
       "      <th>75%</th>\n",
       "      <td>10.00</td>\n",
       "      <td>11.00</td>\n",
       "      <td>10.00</td>\n",
       "      <td>11.00</td>\n",
       "      <td>11.00</td>\n",
       "      <td>13.00</td>\n",
       "      <td>13.00</td>\n",
       "      <td>11.00</td>\n",
       "      <td>91.00</td>\n",
       "    </tr>\n",
       "    <tr>\n",
       "      <th>max</th>\n",
       "      <td>1741.00</td>\n",
       "      <td>1570.00</td>\n",
       "      <td>985.00</td>\n",
       "      <td>1574.00</td>\n",
       "      <td>1645.00</td>\n",
       "      <td>1749.00</td>\n",
       "      <td>1614.00</td>\n",
       "      <td>989.00</td>\n",
       "      <td>11458.00</td>\n",
       "    </tr>\n",
       "  </tbody>\n",
       "</table>\n",
       "</div>"
      ],
      "text/plain": [
       "          2009     2010     2011     2012     2013     2014     2015     2016  \\\n",
       "count  3013.00  3013.00  3013.00  3013.00  3013.00  3013.00  3013.00  3013.00   \n",
       "mean     12.60    13.35    12.87    13.00    13.86    15.72    15.30    12.98   \n",
       "std      46.95    47.40    38.90    45.68    47.55    51.78    48.96    37.56   \n",
       "min       0.00     0.00     0.00     0.00     0.00     0.00     0.00     0.00   \n",
       "25%       0.00     0.00     0.00     0.00     0.00     1.00     1.00     1.00   \n",
       "50%       3.00     3.00     3.00     3.00     3.00     4.00     4.00     4.00   \n",
       "75%      10.00    11.00    10.00    11.00    11.00    13.00    13.00    11.00   \n",
       "max    1741.00  1570.00   985.00  1574.00  1645.00  1749.00  1614.00   989.00   \n",
       "\n",
       "          total  \n",
       "count   3013.00  \n",
       "mean     109.68  \n",
       "std      354.36  \n",
       "min        0.00  \n",
       "25%        7.00  \n",
       "50%       29.00  \n",
       "75%       91.00  \n",
       "max    11458.00  "
      ]
     },
     "execution_count": 17,
     "metadata": {},
     "output_type": "execute_result"
    }
   ],
   "source": [
    "nfirs_counties_sev.describe().round(2)"
   ]
  },
  {
   "cell_type": "code",
   "execution_count": 18,
   "metadata": {},
   "outputs": [
    {
     "data": {
      "text/plain": [
       "<matplotlib.axes._subplots.AxesSubplot at 0x1ff9544ff28>"
      ]
     },
     "execution_count": 18,
     "metadata": {},
     "output_type": "execute_result"
    },
    {
     "data": {
      "image/png": "[encoded data removed]",
      "text/plain": [
       "<Figure size 432x288 with 1 Axes>"
      ]
     },
     "metadata": {
      "needs_background": "light"
     },
     "output_type": "display_data"
    }
   ],
   "source": [
    "nfirs_counties_sev['total'].clip(0,200).hist(bins=50)"
   ]
  },
  {
   "cell_type": "code",
   "execution_count": 19,
   "metadata": {},
   "outputs": [],
   "source": [
    "# nfirs_counties_sev = nfirs_counties_sev[nfirs_counties_sev['total'] >= 10]"
   ]
  },
  {
   "cell_type": "markdown",
   "metadata": {},
   "source": [
    "## Correlation Coefficients"
   ]
  },
  {
   "cell_type": "code",
   "execution_count": 20,
   "metadata": {},
   "outputs": [],
   "source": [
    "def plot_correlation_matrix_heat_map(df,label,qty_fields=10):\n",
    "    df = pd.concat([df[label],df.drop(label,axis=1)],axis=1)\n",
    "    correlation_matrix = df.corr()\n",
    "    index = correlation_matrix.sort_values(label, ascending=False).index\n",
    "    correlation_matrix = correlation_matrix[index].sort_values(label,ascending=False)\n",
    "\n",
    "    fig,ax = plt.subplots()\n",
    "    fig.set_size_inches((10,10))\n",
    "    sns.heatmap(correlation_matrix.iloc[:qty_fields,:qty_fields],annot=True,fmt='.2f',ax=ax)\n",
    "    return(fig,ax)"
   ]
  },
  {
   "cell_type": "code",
   "execution_count": 21,
   "metadata": {},
   "outputs": [
    {
     "data": {
      "text/plain": [
       "(<Figure size 720x720 with 2 Axes>,\n",
       " <matplotlib.axes._subplots.AxesSubplot at 0x1ffad72a5f8>)"
      ]
     },
     "execution_count": 21,
     "metadata": {},
     "output_type": "execute_result"
    },
    {
     "data": {
      "image/png": "[encoded data removed]",
      "text/plain": [
       "<Figure size 720x720 with 2 Axes>"
      ]
     },
     "metadata": {
      "needs_background": "light"
     },
     "output_type": "display_data"
    }
   ],
   "source": [
    "plot_correlation_matrix_heat_map(nfirs_counties_sev,2016)"
   ]
  },
  {
   "cell_type": "code",
   "execution_count": null,
   "metadata": {},
   "outputs": [],
   "source": []
  },
  {
   "cell_type": "markdown",
   "metadata": {},
   "source": [
    "## Linear Regression"
   ]
  },
  {
   "cell_type": "markdown",
   "metadata": {},
   "source": [
    "Various models & features explored"
   ]
  },
  {
   "cell_type": "code",
   "execution_count": 22,
   "metadata": {},
   "outputs": [],
   "source": [
    "from sklearn.model_selection import train_test_split, cross_val_score, GridSearchCV\n",
    "from sklearn.linear_model import LinearRegression\n",
    "from sklearn.metrics import mean_squared_error, mean_absolute_error, mean_squared_log_error\n",
    "from yellowbrick.regressor import ResidualsPlot"
   ]
  },
  {
   "cell_type": "code",
   "execution_count": 24,
   "metadata": {},
   "outputs": [
    {
     "data": {
      "text/plain": [
       "[0.890314090872115,\n",
       " 0.8871379471797658,\n",
       " 0.8850983814252341,\n",
       " 0.8846840947042708,\n",
       " 0.8887742046172956,\n",
       " 0.8934036401582244]"
      ]
     },
     "execution_count": 24,
     "metadata": {},
     "output_type": "execute_result"
    }
   ],
   "source": [
    "features = list(range(2015,2008,-1))\n",
    "label = 2016\n",
    "\n",
    "scores = []\n",
    "\n",
    "for i in range(1,len(features)):\n",
    "    X_train, X_test, y_train, y_test = train_test_split(nfirs_counties_sev[features[:i]],nfirs_counties_sev[label],random_state=0)\n",
    "    lr = LinearRegression()\n",
    "    scores.append(cross_val_score(lr,X_train,y_train,cv=10))\n",
    "\n",
    "scores_avg = [np.mean(score) for score in scores]\n",
    "\n",
    "scores_avg"
   ]
  },
  {
   "cell_type": "code",
   "execution_count": 25,
   "metadata": {},
   "outputs": [
    {
     "data": {
      "text/plain": [
       "[0.890314090872115,\n",
       " 0.8871379471797658,\n",
       " 0.8850983814252341,\n",
       " 0.8846840947042708,\n",
       " 0.8887742046172956,\n",
       " 0.8934036401582244]"
      ]
     },
     "execution_count": 25,
     "metadata": {},
     "output_type": "execute_result"
    }
   ],
   "source": [
    "features = list(range(2015,2008,-1))\n",
    "label = 2016\n",
    "\n",
    "scores = []\n",
    "\n",
    "for i in range(1,len(features)):\n",
    "    X_train, X_test, y_train, y_test = train_test_split(nfirs_counties_sev[features[:i]],nfirs_counties_sev[label],random_state=0)\n",
    "    lr = LinearRegression()\n",
    "    scores.append(cross_val_score(lr,X_train,y_train,cv=10))\n",
    "\n",
    "scores_avg = [np.mean(score) for score in scores]\n",
    "\n",
    "scores_avg"
   ]
  },
  {
   "cell_type": "code",
   "execution_count": 26,
   "metadata": {},
   "outputs": [
    {
     "data": {
      "text/html": [
       "<div>\n",
       "<style scoped>\n",
       "    .dataframe tbody tr th:only-of-type {\n",
       "        vertical-align: middle;\n",
       "    }\n",
       "\n",
       "    .dataframe tbody tr th {\n",
       "        vertical-align: top;\n",
       "    }\n",
       "\n",
       "    .dataframe thead th {\n",
       "        text-align: right;\n",
       "    }\n",
       "</style>\n",
       "<table border=\"1\" class=\"dataframe\">\n",
       "  <thead>\n",
       "    <tr style=\"text-align: right;\">\n",
       "      <th></th>\n",
       "      <th>2009</th>\n",
       "      <th>2010</th>\n",
       "      <th>2011</th>\n",
       "      <th>2012</th>\n",
       "      <th>2013</th>\n",
       "      <th>2014</th>\n",
       "      <th>2015</th>\n",
       "      <th>2016</th>\n",
       "      <th>total</th>\n",
       "    </tr>\n",
       "    <tr>\n",
       "      <th>STCNTY</th>\n",
       "      <th></th>\n",
       "      <th></th>\n",
       "      <th></th>\n",
       "      <th></th>\n",
       "      <th></th>\n",
       "      <th></th>\n",
       "      <th></th>\n",
       "      <th></th>\n",
       "      <th></th>\n",
       "    </tr>\n",
       "  </thead>\n",
       "  <tbody>\n",
       "    <tr>\n",
       "      <th>01001</th>\n",
       "      <td>13</td>\n",
       "      <td>9</td>\n",
       "      <td>7</td>\n",
       "      <td>2</td>\n",
       "      <td>4</td>\n",
       "      <td>2</td>\n",
       "      <td>9</td>\n",
       "      <td>8</td>\n",
       "      <td>54</td>\n",
       "    </tr>\n",
       "    <tr>\n",
       "      <th>01003</th>\n",
       "      <td>16</td>\n",
       "      <td>15</td>\n",
       "      <td>20</td>\n",
       "      <td>13</td>\n",
       "      <td>10</td>\n",
       "      <td>25</td>\n",
       "      <td>17</td>\n",
       "      <td>15</td>\n",
       "      <td>131</td>\n",
       "    </tr>\n",
       "    <tr>\n",
       "      <th>01005</th>\n",
       "      <td>3</td>\n",
       "      <td>0</td>\n",
       "      <td>0</td>\n",
       "      <td>5</td>\n",
       "      <td>0</td>\n",
       "      <td>6</td>\n",
       "      <td>0</td>\n",
       "      <td>1</td>\n",
       "      <td>15</td>\n",
       "    </tr>\n",
       "    <tr>\n",
       "      <th>01007</th>\n",
       "      <td>1</td>\n",
       "      <td>1</td>\n",
       "      <td>1</td>\n",
       "      <td>1</td>\n",
       "      <td>0</td>\n",
       "      <td>0</td>\n",
       "      <td>0</td>\n",
       "      <td>2</td>\n",
       "      <td>6</td>\n",
       "    </tr>\n",
       "    <tr>\n",
       "      <th>01009</th>\n",
       "      <td>4</td>\n",
       "      <td>4</td>\n",
       "      <td>14</td>\n",
       "      <td>5</td>\n",
       "      <td>4</td>\n",
       "      <td>4</td>\n",
       "      <td>4</td>\n",
       "      <td>5</td>\n",
       "      <td>44</td>\n",
       "    </tr>\n",
       "  </tbody>\n",
       "</table>\n",
       "</div>"
      ],
      "text/plain": [
       "        2009  2010  2011  2012  2013  2014  2015  2016  total\n",
       "STCNTY                                                       \n",
       "01001     13     9     7     2     4     2     9     8     54\n",
       "01003     16    15    20    13    10    25    17    15    131\n",
       "01005      3     0     0     5     0     6     0     1     15\n",
       "01007      1     1     1     1     0     0     0     2      6\n",
       "01009      4     4    14     5     4     4     4     5     44"
      ]
     },
     "execution_count": 26,
     "metadata": {},
     "output_type": "execute_result"
    }
   ],
   "source": [
    "nfirs_counties_sev.head()"
   ]
  },
  {
   "cell_type": "code",
   "execution_count": 27,
   "metadata": {},
   "outputs": [
    {
     "name": "stderr",
     "output_type": "stream",
     "text": [
      "C:\\Users\\thwhi\\Anaconda3\\lib\\site-packages\\ipykernel_launcher.py:1: SettingWithCopyWarning: \n",
      "A value is trying to be set on a copy of a slice from a DataFrame.\n",
      "Try using .loc[row_indexer,col_indexer] = value instead\n",
      "\n",
      "See the caveats in the documentation: http://pandas.pydata.org/pandas-docs/stable/indexing.html#indexing-view-versus-copy\n",
      "  \"\"\"Entry point for launching an IPython kernel.\n"
     ]
    }
   ],
   "source": [
    "nfirs_counties_sev['avg_2009_2015'] = nfirs_counties_sev.iloc[:,0:7].mean(axis=1)"
   ]
  },
  {
   "cell_type": "code",
   "execution_count": 28,
   "metadata": {},
   "outputs": [
    {
     "data": {
      "text/html": [
       "<div>\n",
       "<style scoped>\n",
       "    .dataframe tbody tr th:only-of-type {\n",
       "        vertical-align: middle;\n",
       "    }\n",
       "\n",
       "    .dataframe tbody tr th {\n",
       "        vertical-align: top;\n",
       "    }\n",
       "\n",
       "    .dataframe thead th {\n",
       "        text-align: right;\n",
       "    }\n",
       "</style>\n",
       "<table border=\"1\" class=\"dataframe\">\n",
       "  <thead>\n",
       "    <tr style=\"text-align: right;\">\n",
       "      <th></th>\n",
       "      <th>2009</th>\n",
       "      <th>2010</th>\n",
       "      <th>2011</th>\n",
       "      <th>2012</th>\n",
       "      <th>2013</th>\n",
       "      <th>2014</th>\n",
       "      <th>2015</th>\n",
       "      <th>2016</th>\n",
       "      <th>total</th>\n",
       "      <th>avg_2009_2015</th>\n",
       "    </tr>\n",
       "    <tr>\n",
       "      <th>STCNTY</th>\n",
       "      <th></th>\n",
       "      <th></th>\n",
       "      <th></th>\n",
       "      <th></th>\n",
       "      <th></th>\n",
       "      <th></th>\n",
       "      <th></th>\n",
       "      <th></th>\n",
       "      <th></th>\n",
       "      <th></th>\n",
       "    </tr>\n",
       "  </thead>\n",
       "  <tbody>\n",
       "    <tr>\n",
       "      <th>01001</th>\n",
       "      <td>13</td>\n",
       "      <td>9</td>\n",
       "      <td>7</td>\n",
       "      <td>2</td>\n",
       "      <td>4</td>\n",
       "      <td>2</td>\n",
       "      <td>9</td>\n",
       "      <td>8</td>\n",
       "      <td>54</td>\n",
       "      <td>6.571429</td>\n",
       "    </tr>\n",
       "    <tr>\n",
       "      <th>01003</th>\n",
       "      <td>16</td>\n",
       "      <td>15</td>\n",
       "      <td>20</td>\n",
       "      <td>13</td>\n",
       "      <td>10</td>\n",
       "      <td>25</td>\n",
       "      <td>17</td>\n",
       "      <td>15</td>\n",
       "      <td>131</td>\n",
       "      <td>16.571429</td>\n",
       "    </tr>\n",
       "    <tr>\n",
       "      <th>01005</th>\n",
       "      <td>3</td>\n",
       "      <td>0</td>\n",
       "      <td>0</td>\n",
       "      <td>5</td>\n",
       "      <td>0</td>\n",
       "      <td>6</td>\n",
       "      <td>0</td>\n",
       "      <td>1</td>\n",
       "      <td>15</td>\n",
       "      <td>2.000000</td>\n",
       "    </tr>\n",
       "    <tr>\n",
       "      <th>01007</th>\n",
       "      <td>1</td>\n",
       "      <td>1</td>\n",
       "      <td>1</td>\n",
       "      <td>1</td>\n",
       "      <td>0</td>\n",
       "      <td>0</td>\n",
       "      <td>0</td>\n",
       "      <td>2</td>\n",
       "      <td>6</td>\n",
       "      <td>0.571429</td>\n",
       "    </tr>\n",
       "    <tr>\n",
       "      <th>01009</th>\n",
       "      <td>4</td>\n",
       "      <td>4</td>\n",
       "      <td>14</td>\n",
       "      <td>5</td>\n",
       "      <td>4</td>\n",
       "      <td>4</td>\n",
       "      <td>4</td>\n",
       "      <td>5</td>\n",
       "      <td>44</td>\n",
       "      <td>5.571429</td>\n",
       "    </tr>\n",
       "  </tbody>\n",
       "</table>\n",
       "</div>"
      ],
      "text/plain": [
       "        2009  2010  2011  2012  2013  2014  2015  2016  total  avg_2009_2015\n",
       "STCNTY                                                                      \n",
       "01001     13     9     7     2     4     2     9     8     54       6.571429\n",
       "01003     16    15    20    13    10    25    17    15    131      16.571429\n",
       "01005      3     0     0     5     0     6     0     1     15       2.000000\n",
       "01007      1     1     1     1     0     0     0     2      6       0.571429\n",
       "01009      4     4    14     5     4     4     4     5     44       5.571429"
      ]
     },
     "execution_count": 28,
     "metadata": {},
     "output_type": "execute_result"
    }
   ],
   "source": [
    "nfirs_counties_sev.head()"
   ]
  },
  {
   "cell_type": "code",
   "execution_count": 29,
   "metadata": {},
   "outputs": [
    {
     "name": "stdout",
     "output_type": "stream",
     "text": [
      "Training score:  0.9228889860529291\n",
      "Test score:  0.8648840010906316\n",
      "Root mean squared error:  13.76741823756939\n"
     ]
    }
   ],
   "source": [
    "features = ['avg_2009_2015']\n",
    "label = 2016\n",
    "\n",
    "X_train,X_test,y_train,y_test = train_test_split(nfirs_counties_sev[features],nfirs_counties_sev[label],random_state=1)\n",
    "\n",
    "lr = LinearRegression()\n",
    "params = {}\n",
    "gs_lr = GridSearchCV(lr,params,cv=10)\n",
    "\n",
    "gs_lr.fit(X_train,y_train)\n",
    "\n",
    "print('Training score: ',gs_lr.score(X_train,y_train))\n",
    "print('Test score: ',gs_lr.score(X_test,y_test))\n",
    "\n",
    "predictions = gs_lr.predict(X_test)\n",
    "mse = mean_squared_error(y_test,predictions)\n",
    "rmse = np.sqrt(mse)\n",
    "print('Root mean squared error: ',rmse)"
   ]
  },
  {
   "cell_type": "code",
   "execution_count": 30,
   "metadata": {},
   "outputs": [
    {
     "name": "stdout",
     "output_type": "stream",
     "text": [
      "Training score:  0.9270411395964135\n",
      "Test score:  0.9006824455301758\n",
      "Root mean squared error:  11.803535931549138\n"
     ]
    }
   ],
   "source": [
    "features = [2015,'avg_2009_2015']\n",
    "label = 2016\n",
    "\n",
    "X_train,X_test,y_train,y_test = train_test_split(nfirs_counties_sev[features],nfirs_counties_sev[label],random_state=1)\n",
    "\n",
    "lr = LinearRegression()\n",
    "params = {}\n",
    "gs_lr = GridSearchCV(lr,params,cv=10)\n",
    "\n",
    "gs_lr.fit(X_train,y_train)\n",
    "\n",
    "print('Training score: ',gs_lr.score(X_train,y_train))\n",
    "print('Test score: ',gs_lr.score(X_test,y_test))\n",
    "\n",
    "predictions = gs_lr.predict(X_test)\n",
    "mse = mean_squared_error(y_test,predictions)\n",
    "rmse = np.sqrt(mse)\n",
    "print('Root mean squared error: ',rmse)"
   ]
  },
  {
   "cell_type": "code",
   "execution_count": 31,
   "metadata": {},
   "outputs": [
    {
     "name": "stdout",
     "output_type": "stream",
     "text": [
      "Training score:  0.9452684650444484\n",
      "Test score:  0.8994274890217269\n",
      "Root mean squared error:  11.877875379202171\n"
     ]
    }
   ],
   "source": [
    "features = list(range(2009,2016))\n",
    "X_train,X_test,y_train,y_test = train_test_split(nfirs_counties_sev[features],nfirs_counties_sev[label],random_state=1)\n",
    "\n",
    "lr = LinearRegression()\n",
    "params = {}\n",
    "gs_lr = GridSearchCV(lr,params,cv=10)\n",
    "\n",
    "gs_lr.fit(X_train,y_train)\n",
    "\n",
    "print('Training score: ',gs_lr.score(X_train,y_train))\n",
    "print('Test score: ',gs_lr.score(X_test,y_test))\n",
    "\n",
    "predictions = gs_lr.predict(X_test)\n",
    "mse = mean_squared_error(y_test,predictions)\n",
    "rmse = np.sqrt(mse)\n",
    "print('Root mean squared error: ',rmse)"
   ]
  },
  {
   "cell_type": "code",
   "execution_count": 32,
   "metadata": {},
   "outputs": [
    {
     "data": {
      "text/html": [
       "<div>\n",
       "<style scoped>\n",
       "    .dataframe tbody tr th:only-of-type {\n",
       "        vertical-align: middle;\n",
       "    }\n",
       "\n",
       "    .dataframe tbody tr th {\n",
       "        vertical-align: top;\n",
       "    }\n",
       "\n",
       "    .dataframe thead th {\n",
       "        text-align: right;\n",
       "    }\n",
       "</style>\n",
       "<table border=\"1\" class=\"dataframe\">\n",
       "  <thead>\n",
       "    <tr style=\"text-align: right;\">\n",
       "      <th></th>\n",
       "      <th>2009</th>\n",
       "      <th>2010</th>\n",
       "      <th>2011</th>\n",
       "      <th>2012</th>\n",
       "      <th>2013</th>\n",
       "      <th>2014</th>\n",
       "      <th>2015</th>\n",
       "      <th>2016</th>\n",
       "      <th>total</th>\n",
       "      <th>avg_2009_2015</th>\n",
       "    </tr>\n",
       "    <tr>\n",
       "      <th>STCNTY</th>\n",
       "      <th></th>\n",
       "      <th></th>\n",
       "      <th></th>\n",
       "      <th></th>\n",
       "      <th></th>\n",
       "      <th></th>\n",
       "      <th></th>\n",
       "      <th></th>\n",
       "      <th></th>\n",
       "      <th></th>\n",
       "    </tr>\n",
       "  </thead>\n",
       "  <tbody>\n",
       "    <tr>\n",
       "      <th>01001</th>\n",
       "      <td>13</td>\n",
       "      <td>9</td>\n",
       "      <td>7</td>\n",
       "      <td>2</td>\n",
       "      <td>4</td>\n",
       "      <td>2</td>\n",
       "      <td>9</td>\n",
       "      <td>8</td>\n",
       "      <td>54</td>\n",
       "      <td>6.571429</td>\n",
       "    </tr>\n",
       "    <tr>\n",
       "      <th>01003</th>\n",
       "      <td>16</td>\n",
       "      <td>15</td>\n",
       "      <td>20</td>\n",
       "      <td>13</td>\n",
       "      <td>10</td>\n",
       "      <td>25</td>\n",
       "      <td>17</td>\n",
       "      <td>15</td>\n",
       "      <td>131</td>\n",
       "      <td>16.571429</td>\n",
       "    </tr>\n",
       "    <tr>\n",
       "      <th>01005</th>\n",
       "      <td>3</td>\n",
       "      <td>0</td>\n",
       "      <td>0</td>\n",
       "      <td>5</td>\n",
       "      <td>0</td>\n",
       "      <td>6</td>\n",
       "      <td>0</td>\n",
       "      <td>1</td>\n",
       "      <td>15</td>\n",
       "      <td>2.000000</td>\n",
       "    </tr>\n",
       "    <tr>\n",
       "      <th>01007</th>\n",
       "      <td>1</td>\n",
       "      <td>1</td>\n",
       "      <td>1</td>\n",
       "      <td>1</td>\n",
       "      <td>0</td>\n",
       "      <td>0</td>\n",
       "      <td>0</td>\n",
       "      <td>2</td>\n",
       "      <td>6</td>\n",
       "      <td>0.571429</td>\n",
       "    </tr>\n",
       "    <tr>\n",
       "      <th>01009</th>\n",
       "      <td>4</td>\n",
       "      <td>4</td>\n",
       "      <td>14</td>\n",
       "      <td>5</td>\n",
       "      <td>4</td>\n",
       "      <td>4</td>\n",
       "      <td>4</td>\n",
       "      <td>5</td>\n",
       "      <td>44</td>\n",
       "      <td>5.571429</td>\n",
       "    </tr>\n",
       "  </tbody>\n",
       "</table>\n",
       "</div>"
      ],
      "text/plain": [
       "        2009  2010  2011  2012  2013  2014  2015  2016  total  avg_2009_2015\n",
       "STCNTY                                                                      \n",
       "01001     13     9     7     2     4     2     9     8     54       6.571429\n",
       "01003     16    15    20    13    10    25    17    15    131      16.571429\n",
       "01005      3     0     0     5     0     6     0     1     15       2.000000\n",
       "01007      1     1     1     1     0     0     0     2      6       0.571429\n",
       "01009      4     4    14     5     4     4     4     5     44       5.571429"
      ]
     },
     "execution_count": 32,
     "metadata": {},
     "output_type": "execute_result"
    }
   ],
   "source": [
    "nfirs_counties_sev.head()"
   ]
  },
  {
   "cell_type": "code",
   "execution_count": 33,
   "metadata": {},
   "outputs": [
    {
     "name": "stderr",
     "output_type": "stream",
     "text": [
      "C:\\Users\\thwhi\\Anaconda3\\lib\\site-packages\\ipykernel_launcher.py:3: SettingWithCopyWarning: \n",
      "A value is trying to be set on a copy of a slice from a DataFrame.\n",
      "Try using .loc[row_indexer,col_indexer] = value instead\n",
      "\n",
      "See the caveats in the documentation: http://pandas.pydata.org/pandas-docs/stable/indexing.html#indexing-view-versus-copy\n",
      "  This is separate from the ipykernel package so we can avoid doing imports until\n"
     ]
    }
   ],
   "source": [
    "for col in range(2010,2016):\n",
    "    col_name = 'diff_{}_{}'.format(col-1,col)\n",
    "    nfirs_counties_sev[col_name] = nfirs_counties_sev[col] - nfirs_counties_sev[col-1]"
   ]
  },
  {
   "cell_type": "code",
   "execution_count": 34,
   "metadata": {},
   "outputs": [
    {
     "data": {
      "text/html": [
       "<div>\n",
       "<style scoped>\n",
       "    .dataframe tbody tr th:only-of-type {\n",
       "        vertical-align: middle;\n",
       "    }\n",
       "\n",
       "    .dataframe tbody tr th {\n",
       "        vertical-align: top;\n",
       "    }\n",
       "\n",
       "    .dataframe thead th {\n",
       "        text-align: right;\n",
       "    }\n",
       "</style>\n",
       "<table border=\"1\" class=\"dataframe\">\n",
       "  <thead>\n",
       "    <tr style=\"text-align: right;\">\n",
       "      <th></th>\n",
       "      <th>2009</th>\n",
       "      <th>2010</th>\n",
       "      <th>2011</th>\n",
       "      <th>2012</th>\n",
       "      <th>2013</th>\n",
       "      <th>2014</th>\n",
       "      <th>2015</th>\n",
       "      <th>2016</th>\n",
       "      <th>total</th>\n",
       "      <th>avg_2009_2015</th>\n",
       "      <th>diff_2009_2010</th>\n",
       "      <th>diff_2010_2011</th>\n",
       "      <th>diff_2011_2012</th>\n",
       "      <th>diff_2012_2013</th>\n",
       "      <th>diff_2013_2014</th>\n",
       "      <th>diff_2014_2015</th>\n",
       "    </tr>\n",
       "    <tr>\n",
       "      <th>STCNTY</th>\n",
       "      <th></th>\n",
       "      <th></th>\n",
       "      <th></th>\n",
       "      <th></th>\n",
       "      <th></th>\n",
       "      <th></th>\n",
       "      <th></th>\n",
       "      <th></th>\n",
       "      <th></th>\n",
       "      <th></th>\n",
       "      <th></th>\n",
       "      <th></th>\n",
       "      <th></th>\n",
       "      <th></th>\n",
       "      <th></th>\n",
       "      <th></th>\n",
       "    </tr>\n",
       "  </thead>\n",
       "  <tbody>\n",
       "    <tr>\n",
       "      <th>01001</th>\n",
       "      <td>13</td>\n",
       "      <td>9</td>\n",
       "      <td>7</td>\n",
       "      <td>2</td>\n",
       "      <td>4</td>\n",
       "      <td>2</td>\n",
       "      <td>9</td>\n",
       "      <td>8</td>\n",
       "      <td>54</td>\n",
       "      <td>6.571429</td>\n",
       "      <td>-4</td>\n",
       "      <td>-2</td>\n",
       "      <td>-5</td>\n",
       "      <td>2</td>\n",
       "      <td>-2</td>\n",
       "      <td>7</td>\n",
       "    </tr>\n",
       "    <tr>\n",
       "      <th>01003</th>\n",
       "      <td>16</td>\n",
       "      <td>15</td>\n",
       "      <td>20</td>\n",
       "      <td>13</td>\n",
       "      <td>10</td>\n",
       "      <td>25</td>\n",
       "      <td>17</td>\n",
       "      <td>15</td>\n",
       "      <td>131</td>\n",
       "      <td>16.571429</td>\n",
       "      <td>-1</td>\n",
       "      <td>5</td>\n",
       "      <td>-7</td>\n",
       "      <td>-3</td>\n",
       "      <td>15</td>\n",
       "      <td>-8</td>\n",
       "    </tr>\n",
       "    <tr>\n",
       "      <th>01005</th>\n",
       "      <td>3</td>\n",
       "      <td>0</td>\n",
       "      <td>0</td>\n",
       "      <td>5</td>\n",
       "      <td>0</td>\n",
       "      <td>6</td>\n",
       "      <td>0</td>\n",
       "      <td>1</td>\n",
       "      <td>15</td>\n",
       "      <td>2.000000</td>\n",
       "      <td>-3</td>\n",
       "      <td>0</td>\n",
       "      <td>5</td>\n",
       "      <td>-5</td>\n",
       "      <td>6</td>\n",
       "      <td>-6</td>\n",
       "    </tr>\n",
       "    <tr>\n",
       "      <th>01007</th>\n",
       "      <td>1</td>\n",
       "      <td>1</td>\n",
       "      <td>1</td>\n",
       "      <td>1</td>\n",
       "      <td>0</td>\n",
       "      <td>0</td>\n",
       "      <td>0</td>\n",
       "      <td>2</td>\n",
       "      <td>6</td>\n",
       "      <td>0.571429</td>\n",
       "      <td>0</td>\n",
       "      <td>0</td>\n",
       "      <td>0</td>\n",
       "      <td>-1</td>\n",
       "      <td>0</td>\n",
       "      <td>0</td>\n",
       "    </tr>\n",
       "    <tr>\n",
       "      <th>01009</th>\n",
       "      <td>4</td>\n",
       "      <td>4</td>\n",
       "      <td>14</td>\n",
       "      <td>5</td>\n",
       "      <td>4</td>\n",
       "      <td>4</td>\n",
       "      <td>4</td>\n",
       "      <td>5</td>\n",
       "      <td>44</td>\n",
       "      <td>5.571429</td>\n",
       "      <td>0</td>\n",
       "      <td>10</td>\n",
       "      <td>-9</td>\n",
       "      <td>-1</td>\n",
       "      <td>0</td>\n",
       "      <td>0</td>\n",
       "    </tr>\n",
       "  </tbody>\n",
       "</table>\n",
       "</div>"
      ],
      "text/plain": [
       "        2009  2010  2011  2012  2013  2014  2015  2016  total  avg_2009_2015  \\\n",
       "STCNTY                                                                         \n",
       "01001     13     9     7     2     4     2     9     8     54       6.571429   \n",
       "01003     16    15    20    13    10    25    17    15    131      16.571429   \n",
       "01005      3     0     0     5     0     6     0     1     15       2.000000   \n",
       "01007      1     1     1     1     0     0     0     2      6       0.571429   \n",
       "01009      4     4    14     5     4     4     4     5     44       5.571429   \n",
       "\n",
       "        diff_2009_2010  diff_2010_2011  diff_2011_2012  diff_2012_2013  \\\n",
       "STCNTY                                                                   \n",
       "01001               -4              -2              -5               2   \n",
       "01003               -1               5              -7              -3   \n",
       "01005               -3               0               5              -5   \n",
       "01007                0               0               0              -1   \n",
       "01009                0              10              -9              -1   \n",
       "\n",
       "        diff_2013_2014  diff_2014_2015  \n",
       "STCNTY                                  \n",
       "01001               -2               7  \n",
       "01003               15              -8  \n",
       "01005                6              -6  \n",
       "01007                0               0  \n",
       "01009                0               0  "
      ]
     },
     "execution_count": 34,
     "metadata": {},
     "output_type": "execute_result"
    }
   ],
   "source": [
    "nfirs_counties_sev.head()"
   ]
  },
  {
   "cell_type": "code",
   "execution_count": 35,
   "metadata": {},
   "outputs": [
    {
     "name": "stdout",
     "output_type": "stream",
     "text": [
      "Training score:  0.9194483041005442\n",
      "Test score:  0.917193258098378\n",
      "Root mean squared error:  10.777845816348467\n"
     ]
    }
   ],
   "source": [
    "features = [2015,'diff_2014_2015']\n",
    "\n",
    "X_train,X_test,y_train,y_test = train_test_split(nfirs_counties_sev[features],nfirs_counties_sev[label],random_state=1)\n",
    "\n",
    "lr = LinearRegression()\n",
    "params = {}\n",
    "gs_lr = GridSearchCV(lr,params,cv=10)\n",
    "\n",
    "gs_lr.fit(X_train,y_train)\n",
    "\n",
    "print('Training score: ',gs_lr.score(X_train,y_train))\n",
    "print('Test score: ',gs_lr.score(X_test,y_test))\n",
    "\n",
    "predictions = gs_lr.predict(X_test)\n",
    "mse = mean_squared_error(y_test,predictions)\n",
    "rmse = np.sqrt(mse)\n",
    "print('Root mean squared error: ',rmse)"
   ]
  },
  {
   "cell_type": "code",
   "execution_count": null,
   "metadata": {},
   "outputs": [],
   "source": []
  },
  {
   "cell_type": "code",
   "execution_count": 36,
   "metadata": {},
   "outputs": [
    {
     "name": "stdout",
     "output_type": "stream",
     "text": [
      "Training score:  0.9195872503112806\n",
      "Test score:  0.9181305871120808\n",
      "Root mean squared error:  10.716672421832294\n"
     ]
    }
   ],
   "source": [
    "features = [2015,'diff_2014_2015','diff_2013_2014']\n",
    "\n",
    "X_train,X_test,y_train,y_test = train_test_split(nfirs_counties_sev[features],nfirs_counties_sev[label],random_state=1)\n",
    "\n",
    "lr = LinearRegression()\n",
    "params = {}\n",
    "gs_lr = GridSearchCV(lr,params,cv=10)\n",
    "\n",
    "gs_lr.fit(X_train,y_train)\n",
    "\n",
    "print('Training score: ',gs_lr.score(X_train,y_train))\n",
    "print('Test score: ',gs_lr.score(X_test,y_test))\n",
    "\n",
    "predictions = gs_lr.predict(X_test)\n",
    "mse = mean_squared_error(y_test,predictions)\n",
    "rmse = np.sqrt(mse)\n",
    "print('Root mean squared error: ',rmse)"
   ]
  },
  {
   "cell_type": "code",
   "execution_count": 37,
   "metadata": {},
   "outputs": [
    {
     "data": {
      "text/plain": [
       "array([ 0.7272298 ,  0.01510501, -0.061399  ])"
      ]
     },
     "execution_count": 37,
     "metadata": {},
     "output_type": "execute_result"
    }
   ],
   "source": [
    "gs_lr.best_estimator_.coef_"
   ]
  },
  {
   "cell_type": "code",
   "execution_count": 38,
   "metadata": {},
   "outputs": [
    {
     "name": "stdout",
     "output_type": "stream",
     "text": [
      "Training score:  0.9194718974791238\n",
      "Test score:  0.9195675168412393\n",
      "Root mean squared error:  10.62220934032064\n",
      "Mean absolute error:  4.533285566793483\n"
     ]
    }
   ],
   "source": [
    "features = [2015,2014,'diff_2014_2015','diff_2013_2014']\n",
    "\n",
    "X_train,X_test,y_train,y_test = train_test_split(nfirs_counties_sev[features],nfirs_counties_sev[label],random_state=1)\n",
    "\n",
    "lr = LinearRegression()\n",
    "params = {}\n",
    "gs_lr = GridSearchCV(lr,params,cv=10)\n",
    "\n",
    "gs_lr.fit(X_train,y_train)\n",
    "\n",
    "print('Training score: ',gs_lr.score(X_train,y_train))\n",
    "print('Test score: ',gs_lr.score(X_test,y_test))\n",
    "\n",
    "predictions = gs_lr.predict(X_test)\n",
    "mse = mean_squared_error(y_test,predictions)\n",
    "rmse = np.sqrt(mse)\n",
    "print('Root mean squared error: ',rmse)\n",
    "mae = mean_absolute_error(y_test,predictions)\n",
    "print('Mean absolute error: ',mae)"
   ]
  },
  {
   "cell_type": "code",
   "execution_count": 39,
   "metadata": {},
   "outputs": [
    {
     "data": {
      "text/plain": [
       "count    3013.000000\n",
       "mean       12.976767\n",
       "std        37.557624\n",
       "min         0.000000\n",
       "25%         1.000000\n",
       "50%         4.000000\n",
       "75%        11.000000\n",
       "max       989.000000\n",
       "Name: 2016, dtype: float64"
      ]
     },
     "execution_count": 39,
     "metadata": {},
     "output_type": "execute_result"
    }
   ],
   "source": [
    "nfirs_counties_sev[2016].describe()"
   ]
  },
  {
   "cell_type": "code",
   "execution_count": 40,
   "metadata": {},
   "outputs": [
    {
     "data": {
      "image/png": "[encoded data removed]",
      "text/plain": [
       "<Figure size 576x396 with 2 Axes>"
      ]
     },
     "metadata": {},
     "output_type": "display_data"
    },
    {
     "data": {
      "text/plain": [
       "<matplotlib.axes._subplots.AxesSubplot at 0x1ffccdbda20>"
      ]
     },
     "execution_count": 40,
     "metadata": {},
     "output_type": "execute_result"
    }
   ],
   "source": [
    "visualizer = ResidualsPlot(gs_lr.best_estimator_)\n",
    "\n",
    "visualizer.fit(X_train, y_train)\n",
    "visualizer.score(X_test,y_test)\n",
    "visualizer.show()"
   ]
  },
  {
   "cell_type": "markdown",
   "metadata": {},
   "source": [
    "So there are clearly a couple of huge outliers in the model. I'm guessing that a lot of those large outliers might be from counties which had a significant difference in reporting from one year to the next. I.e., if they had 0 reported fires in 2015, and then 200 in 2016, then obviously the model isn't going to correctly account for that. \n",
    "\n",
    "And perhaps even using 2016 as the label is an issue as well. The data quality is poor enough for the label itself, so it'll be difficult/impossible to tune a model that doesn't have an accurate set of labels to be tuned to."
   ]
  },
  {
   "cell_type": "code",
   "execution_count": null,
   "metadata": {},
   "outputs": [],
   "source": []
  },
  {
   "cell_type": "markdown",
   "metadata": {},
   "source": [
    "## Linear models for counties with above 10 fires in dataset"
   ]
  },
  {
   "cell_type": "code",
   "execution_count": 41,
   "metadata": {},
   "outputs": [],
   "source": [
    "# This will remove ~900 of the 3000 or so counties in the dataset\n",
    "nfirs_top_counties_sev = nfirs_counties_sev[nfirs_counties_sev['total'] > 10]"
   ]
  },
  {
   "cell_type": "code",
   "execution_count": 42,
   "metadata": {},
   "outputs": [
    {
     "data": {
      "text/html": [
       "<div>\n",
       "<style scoped>\n",
       "    .dataframe tbody tr th:only-of-type {\n",
       "        vertical-align: middle;\n",
       "    }\n",
       "\n",
       "    .dataframe tbody tr th {\n",
       "        vertical-align: top;\n",
       "    }\n",
       "\n",
       "    .dataframe thead th {\n",
       "        text-align: right;\n",
       "    }\n",
       "</style>\n",
       "<table border=\"1\" class=\"dataframe\">\n",
       "  <thead>\n",
       "    <tr style=\"text-align: right;\">\n",
       "      <th></th>\n",
       "      <th>2009</th>\n",
       "      <th>2010</th>\n",
       "      <th>2011</th>\n",
       "      <th>2012</th>\n",
       "      <th>2013</th>\n",
       "      <th>2014</th>\n",
       "      <th>2015</th>\n",
       "      <th>2016</th>\n",
       "      <th>total</th>\n",
       "      <th>avg_2009_2015</th>\n",
       "      <th>diff_2009_2010</th>\n",
       "      <th>diff_2010_2011</th>\n",
       "      <th>diff_2011_2012</th>\n",
       "      <th>diff_2012_2013</th>\n",
       "      <th>diff_2013_2014</th>\n",
       "      <th>diff_2014_2015</th>\n",
       "    </tr>\n",
       "    <tr>\n",
       "      <th>STCNTY</th>\n",
       "      <th></th>\n",
       "      <th></th>\n",
       "      <th></th>\n",
       "      <th></th>\n",
       "      <th></th>\n",
       "      <th></th>\n",
       "      <th></th>\n",
       "      <th></th>\n",
       "      <th></th>\n",
       "      <th></th>\n",
       "      <th></th>\n",
       "      <th></th>\n",
       "      <th></th>\n",
       "      <th></th>\n",
       "      <th></th>\n",
       "      <th></th>\n",
       "    </tr>\n",
       "  </thead>\n",
       "  <tbody>\n",
       "    <tr>\n",
       "      <th>01001</th>\n",
       "      <td>13</td>\n",
       "      <td>9</td>\n",
       "      <td>7</td>\n",
       "      <td>2</td>\n",
       "      <td>4</td>\n",
       "      <td>2</td>\n",
       "      <td>9</td>\n",
       "      <td>8</td>\n",
       "      <td>54</td>\n",
       "      <td>6.571429</td>\n",
       "      <td>-4</td>\n",
       "      <td>-2</td>\n",
       "      <td>-5</td>\n",
       "      <td>2</td>\n",
       "      <td>-2</td>\n",
       "      <td>7</td>\n",
       "    </tr>\n",
       "    <tr>\n",
       "      <th>01003</th>\n",
       "      <td>16</td>\n",
       "      <td>15</td>\n",
       "      <td>20</td>\n",
       "      <td>13</td>\n",
       "      <td>10</td>\n",
       "      <td>25</td>\n",
       "      <td>17</td>\n",
       "      <td>15</td>\n",
       "      <td>131</td>\n",
       "      <td>16.571429</td>\n",
       "      <td>-1</td>\n",
       "      <td>5</td>\n",
       "      <td>-7</td>\n",
       "      <td>-3</td>\n",
       "      <td>15</td>\n",
       "      <td>-8</td>\n",
       "    </tr>\n",
       "    <tr>\n",
       "      <th>01005</th>\n",
       "      <td>3</td>\n",
       "      <td>0</td>\n",
       "      <td>0</td>\n",
       "      <td>5</td>\n",
       "      <td>0</td>\n",
       "      <td>6</td>\n",
       "      <td>0</td>\n",
       "      <td>1</td>\n",
       "      <td>15</td>\n",
       "      <td>2.000000</td>\n",
       "      <td>-3</td>\n",
       "      <td>0</td>\n",
       "      <td>5</td>\n",
       "      <td>-5</td>\n",
       "      <td>6</td>\n",
       "      <td>-6</td>\n",
       "    </tr>\n",
       "    <tr>\n",
       "      <th>01009</th>\n",
       "      <td>4</td>\n",
       "      <td>4</td>\n",
       "      <td>14</td>\n",
       "      <td>5</td>\n",
       "      <td>4</td>\n",
       "      <td>4</td>\n",
       "      <td>4</td>\n",
       "      <td>5</td>\n",
       "      <td>44</td>\n",
       "      <td>5.571429</td>\n",
       "      <td>0</td>\n",
       "      <td>10</td>\n",
       "      <td>-9</td>\n",
       "      <td>-1</td>\n",
       "      <td>0</td>\n",
       "      <td>0</td>\n",
       "    </tr>\n",
       "    <tr>\n",
       "      <th>01013</th>\n",
       "      <td>9</td>\n",
       "      <td>6</td>\n",
       "      <td>2</td>\n",
       "      <td>7</td>\n",
       "      <td>1</td>\n",
       "      <td>6</td>\n",
       "      <td>6</td>\n",
       "      <td>5</td>\n",
       "      <td>42</td>\n",
       "      <td>5.285714</td>\n",
       "      <td>-3</td>\n",
       "      <td>-4</td>\n",
       "      <td>5</td>\n",
       "      <td>-6</td>\n",
       "      <td>5</td>\n",
       "      <td>0</td>\n",
       "    </tr>\n",
       "  </tbody>\n",
       "</table>\n",
       "</div>"
      ],
      "text/plain": [
       "        2009  2010  2011  2012  2013  2014  2015  2016  total  avg_2009_2015  \\\n",
       "STCNTY                                                                         \n",
       "01001     13     9     7     2     4     2     9     8     54       6.571429   \n",
       "01003     16    15    20    13    10    25    17    15    131      16.571429   \n",
       "01005      3     0     0     5     0     6     0     1     15       2.000000   \n",
       "01009      4     4    14     5     4     4     4     5     44       5.571429   \n",
       "01013      9     6     2     7     1     6     6     5     42       5.285714   \n",
       "\n",
       "        diff_2009_2010  diff_2010_2011  diff_2011_2012  diff_2012_2013  \\\n",
       "STCNTY                                                                   \n",
       "01001               -4              -2              -5               2   \n",
       "01003               -1               5              -7              -3   \n",
       "01005               -3               0               5              -5   \n",
       "01009                0              10              -9              -1   \n",
       "01013               -3              -4               5              -6   \n",
       "\n",
       "        diff_2013_2014  diff_2014_2015  \n",
       "STCNTY                                  \n",
       "01001               -2               7  \n",
       "01003               15              -8  \n",
       "01005                6              -6  \n",
       "01009                0               0  \n",
       "01013                5               0  "
      ]
     },
     "execution_count": 42,
     "metadata": {},
     "output_type": "execute_result"
    }
   ],
   "source": [
    "nfirs_top_counties_sev.head()"
   ]
  },
  {
   "cell_type": "code",
   "execution_count": null,
   "metadata": {},
   "outputs": [],
   "source": []
  },
  {
   "cell_type": "code",
   "execution_count": 43,
   "metadata": {},
   "outputs": [
    {
     "name": "stdout",
     "output_type": "stream",
     "text": [
      "Training score:  0.9042569798875348\n",
      "Test score:  0.9187868256706857\n",
      "Root mean squared error:  15.375579506022959\n",
      "Mean absolute error:  6.46841775597996\n"
     ]
    }
   ],
   "source": [
    "features = [2015,2014,'diff_2014_2015','diff_2013_2014']\n",
    "\n",
    "X_train,X_test,y_train,y_test = train_test_split(nfirs_top_counties_sev[features],nfirs_top_counties_sev[label],random_state=1)\n",
    "\n",
    "lr = LinearRegression()\n",
    "params = {}\n",
    "gs_lr = GridSearchCV(lr,params,cv=10)\n",
    "\n",
    "gs_lr.fit(X_train,y_train)\n",
    "\n",
    "print('Training score: ',gs_lr.score(X_train,y_train))\n",
    "print('Test score: ',gs_lr.score(X_test,y_test))\n",
    "\n",
    "predictions = gs_lr.predict(X_test)\n",
    "mse = mean_squared_error(y_test,predictions)\n",
    "rmse = np.sqrt(mse)\n",
    "print('Root mean squared error: ',rmse)\n",
    "mae = mean_absolute_error(y_test,predictions)\n",
    "print('Mean absolute error: ',mae)"
   ]
  },
  {
   "cell_type": "code",
   "execution_count": null,
   "metadata": {},
   "outputs": [],
   "source": []
  },
  {
   "cell_type": "markdown",
   "metadata": {},
   "source": [
    "# Census Tract Level Learning Models"
   ]
  },
  {
   "cell_type": "markdown",
   "metadata": {},
   "source": [
    "## Aggregate nfirs by census tract and calculate per-capita rates\n",
    "\n",
    "- Task 2: <b>Home Fire Census Tract Assessment</b>: Score and rank order census tracts based on highest fire rates per-capita using NFIRS Data (aggregate) and SVI population estimates\n",
    "- Task 4: <b>Home Fire Severity Assessment (census tract)</b>Score and rank order census tracts based on rates of severe fires per-capita using NFIRS Data (aggregate) and SVI population "
   ]
  },
  {
   "cell_type": "code",
   "execution_count": 44,
   "metadata": {},
   "outputs": [
    {
     "name": "stderr",
     "output_type": "stream",
     "text": [
      "C:\\Users\\thwhi\\Anaconda3\\lib\\site-packages\\pandas\\core\\reshape\\merge.py:522: UserWarning: merging between different levels can give an unintended result (1 levels on the left, 2 on the right)\n",
      "  warnings.warn(msg, UserWarning)\n"
     ]
    }
   ],
   "source": [
    "# Do frequency counts based on the year & the number of severe vs non-severe fires\n",
    "nfirs_tracts = pd.crosstab(nfirs['GEOID'],[nfirs['year'],nfirs['severe_fire']])\n",
    "\n",
    "# Iterate through years and calculate the total number of fires\n",
    "for year in nfirs['year'].unique():\n",
    "    nfirs_tracts[(year,'tot_fires')] = nfirs_tracts[(year,'not_sev_fire')] + nfirs_tracts[(year,'sev_fire')]\n",
    "\n",
    "# Sort the columns\n",
    "nfirs_tracts = nfirs_tracts[sorted(nfirs_tracts.columns)]\n",
    "\n",
    "# data already aggregated by census tract, so simply select the columns to merge\n",
    "svi2016_tracts = svi2016[['FIPS','ST_ABBR','COUNTY','LOCATION','E_TOTPOP']].set_index('FIPS')\n",
    "\n",
    "# add nfirs data to svi data and insure it's a one-to-one merge\n",
    "nfirs_svi_tracts = svi2016_tracts.merge(nfirs_tracts,how='left',left_index=True,right_index=True, validate='one_to_one')\n",
    "\n",
    "nfirs_svi_tracts_rates = nfirs_svi_tracts[['ST_ABBR','COUNTY','LOCATION','E_TOTPOP']].copy()\n",
    "\n",
    "# Calculate the per capita fire rates\n",
    "for year in [2009,2010,2011,2012,2013,2014,2015,2016]:\n",
    "    nfirs_svi_tracts_rates[str(year) + '_tot_fire_rate_per_cap'] = nfirs_svi_tracts[(year,'tot_fires')] / nfirs_svi_tracts['E_TOTPOP']\n",
    "    nfirs_svi_tracts_rates[str(year) + '_sev_fire_rate_per_cap'] = nfirs_svi_tracts[(year,'sev_fire')] / nfirs_svi_tracts['E_TOTPOP']\n",
    "\n",
    "nfirs_svi_tracts_rates.index.name = 'GEOID'\n",
    "\n",
    "# create list of severe columns & total columns\n",
    "sev_cols = nfirs_svi_tracts_rates.columns[nfirs_svi_tracts_rates.columns.str.contains('sev_')]\n",
    "tot_cols = nfirs_svi_tracts_rates.columns[nfirs_svi_tracts_rates.columns.str.contains('tot_')]\n",
    "\n",
    "# calculate mean and standard deviation from 2009-2016\n",
    "nfirs_svi_tracts_rates['avg_sev_fire_rate_per_cap'] = nfirs_svi_tracts_rates[sev_cols].mean(axis=1)\n",
    "nfirs_svi_tracts_rates['std_sev_fire_rate_per_cap'] = nfirs_svi_tracts_rates[sev_cols].std(axis=1)\n",
    "nfirs_svi_tracts_rates['avg_tot_fire_rate_per_cap'] = nfirs_svi_tracts_rates[tot_cols].mean(axis=1)\n",
    "nfirs_svi_tracts_rates['std_tot_fire_rate_per_cap'] = nfirs_svi_tracts_rates[tot_cols].std(axis=1)\n",
    "\n",
    "# Rearrange columns\n",
    "first_cols = ['ST_ABBR','COUNTY','E_TOTPOP','LOCATION','avg_tot_fire_rate_per_cap','std_tot_fire_rate_per_cap',\n",
    "              'avg_sev_fire_rate_per_cap','std_sev_fire_rate_per_cap']\n",
    "cols = list(nfirs_svi_tracts_rates.columns)\n",
    "cols = first_cols + [col for col in cols if col not in first_cols]\n",
    "nfirs_svi_tracts_rates = nfirs_svi_tracts_rates[cols]"
   ]
  },
  {
   "cell_type": "code",
   "execution_count": 45,
   "metadata": {},
   "outputs": [],
   "source": [
    "years_sev_fires = [(year,'sev_fire') for year in range(2009,2017)]\n",
    "\n",
    "nfirs_tracts_sev = nfirs_tracts[years_sev_fires]\n",
    "\n",
    "nfirs_tracts_sev.columns = range(2009,2017)"
   ]
  },
  {
   "cell_type": "code",
   "execution_count": 46,
   "metadata": {},
   "outputs": [
    {
     "name": "stderr",
     "output_type": "stream",
     "text": [
      "C:\\Users\\thwhi\\Anaconda3\\lib\\site-packages\\ipykernel_launcher.py:1: SettingWithCopyWarning: \n",
      "A value is trying to be set on a copy of a slice from a DataFrame.\n",
      "Try using .loc[row_indexer,col_indexer] = value instead\n",
      "\n",
      "See the caveats in the documentation: http://pandas.pydata.org/pandas-docs/stable/indexing.html#indexing-view-versus-copy\n",
      "  \"\"\"Entry point for launching an IPython kernel.\n"
     ]
    }
   ],
   "source": [
    "nfirs_tracts_sev['total'] = nfirs_tracts_sev.sum(axis=1)"
   ]
  },
  {
   "cell_type": "code",
   "execution_count": 47,
   "metadata": {},
   "outputs": [
    {
     "name": "stderr",
     "output_type": "stream",
     "text": [
      "C:\\Users\\thwhi\\Anaconda3\\lib\\site-packages\\ipykernel_launcher.py:1: SettingWithCopyWarning: \n",
      "A value is trying to be set on a copy of a slice from a DataFrame.\n",
      "Try using .loc[row_indexer,col_indexer] = value instead\n",
      "\n",
      "See the caveats in the documentation: http://pandas.pydata.org/pandas-docs/stable/indexing.html#indexing-view-versus-copy\n",
      "  \"\"\"Entry point for launching an IPython kernel.\n"
     ]
    }
   ],
   "source": [
    "nfirs_tracts_sev['avg_2009_2015'] = nfirs_tracts_sev.iloc[:,0:7].mean(axis=1)"
   ]
  },
  {
   "cell_type": "code",
   "execution_count": 48,
   "metadata": {},
   "outputs": [
    {
     "name": "stderr",
     "output_type": "stream",
     "text": [
      "C:\\Users\\thwhi\\Anaconda3\\lib\\site-packages\\ipykernel_launcher.py:3: SettingWithCopyWarning: \n",
      "A value is trying to be set on a copy of a slice from a DataFrame.\n",
      "Try using .loc[row_indexer,col_indexer] = value instead\n",
      "\n",
      "See the caveats in the documentation: http://pandas.pydata.org/pandas-docs/stable/indexing.html#indexing-view-versus-copy\n",
      "  This is separate from the ipykernel package so we can avoid doing imports until\n"
     ]
    }
   ],
   "source": [
    "for col in range(2010,2016):\n",
    "    col_name = 'diff_{}_{}'.format(col-1,col)\n",
    "    nfirs_tracts_sev[col_name] = nfirs_tracts_sev[col] - nfirs_tracts_sev[col-1]"
   ]
  },
  {
   "cell_type": "code",
   "execution_count": 49,
   "metadata": {},
   "outputs": [
    {
     "data": {
      "text/html": [
       "<div>\n",
       "<style scoped>\n",
       "    .dataframe tbody tr th:only-of-type {\n",
       "        vertical-align: middle;\n",
       "    }\n",
       "\n",
       "    .dataframe tbody tr th {\n",
       "        vertical-align: top;\n",
       "    }\n",
       "\n",
       "    .dataframe thead th {\n",
       "        text-align: right;\n",
       "    }\n",
       "</style>\n",
       "<table border=\"1\" class=\"dataframe\">\n",
       "  <thead>\n",
       "    <tr style=\"text-align: right;\">\n",
       "      <th></th>\n",
       "      <th>2009</th>\n",
       "      <th>2010</th>\n",
       "      <th>2011</th>\n",
       "      <th>2012</th>\n",
       "      <th>2013</th>\n",
       "      <th>2014</th>\n",
       "      <th>2015</th>\n",
       "      <th>2016</th>\n",
       "      <th>total</th>\n",
       "      <th>avg_2009_2015</th>\n",
       "      <th>diff_2009_2010</th>\n",
       "      <th>diff_2010_2011</th>\n",
       "      <th>diff_2011_2012</th>\n",
       "      <th>diff_2012_2013</th>\n",
       "      <th>diff_2013_2014</th>\n",
       "      <th>diff_2014_2015</th>\n",
       "    </tr>\n",
       "    <tr>\n",
       "      <th>GEOID</th>\n",
       "      <th></th>\n",
       "      <th></th>\n",
       "      <th></th>\n",
       "      <th></th>\n",
       "      <th></th>\n",
       "      <th></th>\n",
       "      <th></th>\n",
       "      <th></th>\n",
       "      <th></th>\n",
       "      <th></th>\n",
       "      <th></th>\n",
       "      <th></th>\n",
       "      <th></th>\n",
       "      <th></th>\n",
       "      <th></th>\n",
       "      <th></th>\n",
       "    </tr>\n",
       "  </thead>\n",
       "  <tbody>\n",
       "    <tr>\n",
       "      <th>01001020100</th>\n",
       "      <td>2</td>\n",
       "      <td>2</td>\n",
       "      <td>0</td>\n",
       "      <td>0</td>\n",
       "      <td>0</td>\n",
       "      <td>0</td>\n",
       "      <td>1</td>\n",
       "      <td>2</td>\n",
       "      <td>7</td>\n",
       "      <td>0.714286</td>\n",
       "      <td>0</td>\n",
       "      <td>-2</td>\n",
       "      <td>0</td>\n",
       "      <td>0</td>\n",
       "      <td>0</td>\n",
       "      <td>1</td>\n",
       "    </tr>\n",
       "    <tr>\n",
       "      <th>01001020200</th>\n",
       "      <td>2</td>\n",
       "      <td>0</td>\n",
       "      <td>2</td>\n",
       "      <td>0</td>\n",
       "      <td>1</td>\n",
       "      <td>0</td>\n",
       "      <td>0</td>\n",
       "      <td>0</td>\n",
       "      <td>5</td>\n",
       "      <td>0.714286</td>\n",
       "      <td>-2</td>\n",
       "      <td>2</td>\n",
       "      <td>-2</td>\n",
       "      <td>1</td>\n",
       "      <td>-1</td>\n",
       "      <td>0</td>\n",
       "    </tr>\n",
       "    <tr>\n",
       "      <th>01001020300</th>\n",
       "      <td>2</td>\n",
       "      <td>1</td>\n",
       "      <td>1</td>\n",
       "      <td>1</td>\n",
       "      <td>0</td>\n",
       "      <td>1</td>\n",
       "      <td>2</td>\n",
       "      <td>2</td>\n",
       "      <td>10</td>\n",
       "      <td>1.142857</td>\n",
       "      <td>-1</td>\n",
       "      <td>0</td>\n",
       "      <td>0</td>\n",
       "      <td>-1</td>\n",
       "      <td>1</td>\n",
       "      <td>1</td>\n",
       "    </tr>\n",
       "    <tr>\n",
       "      <th>01001020400</th>\n",
       "      <td>1</td>\n",
       "      <td>0</td>\n",
       "      <td>2</td>\n",
       "      <td>0</td>\n",
       "      <td>0</td>\n",
       "      <td>0</td>\n",
       "      <td>2</td>\n",
       "      <td>0</td>\n",
       "      <td>5</td>\n",
       "      <td>0.714286</td>\n",
       "      <td>-1</td>\n",
       "      <td>2</td>\n",
       "      <td>-2</td>\n",
       "      <td>0</td>\n",
       "      <td>0</td>\n",
       "      <td>2</td>\n",
       "    </tr>\n",
       "    <tr>\n",
       "      <th>01001020500</th>\n",
       "      <td>1</td>\n",
       "      <td>3</td>\n",
       "      <td>1</td>\n",
       "      <td>0</td>\n",
       "      <td>0</td>\n",
       "      <td>0</td>\n",
       "      <td>3</td>\n",
       "      <td>3</td>\n",
       "      <td>11</td>\n",
       "      <td>1.142857</td>\n",
       "      <td>2</td>\n",
       "      <td>-2</td>\n",
       "      <td>-1</td>\n",
       "      <td>0</td>\n",
       "      <td>0</td>\n",
       "      <td>3</td>\n",
       "    </tr>\n",
       "  </tbody>\n",
       "</table>\n",
       "</div>"
      ],
      "text/plain": [
       "             2009  2010  2011  2012  2013  2014  2015  2016  total  \\\n",
       "GEOID                                                                \n",
       "01001020100     2     2     0     0     0     0     1     2      7   \n",
       "01001020200     2     0     2     0     1     0     0     0      5   \n",
       "01001020300     2     1     1     1     0     1     2     2     10   \n",
       "01001020400     1     0     2     0     0     0     2     0      5   \n",
       "01001020500     1     3     1     0     0     0     3     3     11   \n",
       "\n",
       "             avg_2009_2015  diff_2009_2010  diff_2010_2011  diff_2011_2012  \\\n",
       "GEOID                                                                        \n",
       "01001020100       0.714286               0              -2               0   \n",
       "01001020200       0.714286              -2               2              -2   \n",
       "01001020300       1.142857              -1               0               0   \n",
       "01001020400       0.714286              -1               2              -2   \n",
       "01001020500       1.142857               2              -2              -1   \n",
       "\n",
       "             diff_2012_2013  diff_2013_2014  diff_2014_2015  \n",
       "GEOID                                                        \n",
       "01001020100               0               0               1  \n",
       "01001020200               1              -1               0  \n",
       "01001020300              -1               1               1  \n",
       "01001020400               0               0               2  \n",
       "01001020500               0               0               3  "
      ]
     },
     "execution_count": 49,
     "metadata": {},
     "output_type": "execute_result"
    }
   ],
   "source": [
    "nfirs_tracts_sev.head()"
   ]
  },
  {
   "cell_type": "code",
   "execution_count": 50,
   "metadata": {},
   "outputs": [
    {
     "data": {
      "text/html": [
       "<div>\n",
       "<style scoped>\n",
       "    .dataframe tbody tr th:only-of-type {\n",
       "        vertical-align: middle;\n",
       "    }\n",
       "\n",
       "    .dataframe tbody tr th {\n",
       "        vertical-align: top;\n",
       "    }\n",
       "\n",
       "    .dataframe thead th {\n",
       "        text-align: right;\n",
       "    }\n",
       "</style>\n",
       "<table border=\"1\" class=\"dataframe\">\n",
       "  <thead>\n",
       "    <tr style=\"text-align: right;\">\n",
       "      <th></th>\n",
       "      <th>2016</th>\n",
       "      <th>total</th>\n",
       "    </tr>\n",
       "  </thead>\n",
       "  <tbody>\n",
       "    <tr>\n",
       "      <th>count</th>\n",
       "      <td>68129.0</td>\n",
       "      <td>68129.0</td>\n",
       "    </tr>\n",
       "    <tr>\n",
       "      <th>mean</th>\n",
       "      <td>0.6</td>\n",
       "      <td>4.9</td>\n",
       "    </tr>\n",
       "    <tr>\n",
       "      <th>std</th>\n",
       "      <td>1.2</td>\n",
       "      <td>6.1</td>\n",
       "    </tr>\n",
       "    <tr>\n",
       "      <th>min</th>\n",
       "      <td>0.0</td>\n",
       "      <td>0.0</td>\n",
       "    </tr>\n",
       "    <tr>\n",
       "      <th>25%</th>\n",
       "      <td>0.0</td>\n",
       "      <td>1.0</td>\n",
       "    </tr>\n",
       "    <tr>\n",
       "      <th>50%</th>\n",
       "      <td>0.0</td>\n",
       "      <td>3.0</td>\n",
       "    </tr>\n",
       "    <tr>\n",
       "      <th>75%</th>\n",
       "      <td>1.0</td>\n",
       "      <td>7.0</td>\n",
       "    </tr>\n",
       "    <tr>\n",
       "      <th>max</th>\n",
       "      <td>165.0</td>\n",
       "      <td>169.0</td>\n",
       "    </tr>\n",
       "  </tbody>\n",
       "</table>\n",
       "</div>"
      ],
      "text/plain": [
       "          2016    total\n",
       "count  68129.0  68129.0\n",
       "mean       0.6      4.9\n",
       "std        1.2      6.1\n",
       "min        0.0      0.0\n",
       "25%        0.0      1.0\n",
       "50%        0.0      3.0\n",
       "75%        1.0      7.0\n",
       "max      165.0    169.0"
      ]
     },
     "execution_count": 50,
     "metadata": {},
     "output_type": "execute_result"
    }
   ],
   "source": [
    "nfirs_tracts_sev[[2016,'total']].describe().round(1)"
   ]
  },
  {
   "cell_type": "code",
   "execution_count": 51,
   "metadata": {},
   "outputs": [
    {
     "data": {
      "text/plain": [
       "<matplotlib.axes._subplots.AxesSubplot at 0x1ffcd842e10>"
      ]
     },
     "execution_count": 51,
     "metadata": {},
     "output_type": "execute_result"
    },
    {
     "data": {
      "image/png": "[encoded data removed]",
      "text/plain": [
       "<Figure size 576x396 with 1 Axes>"
      ]
     },
     "metadata": {},
     "output_type": "display_data"
    }
   ],
   "source": [
    "nfirs_tracts_sev['total'].clip(0,50).hist(bins=50)"
   ]
  },
  {
   "cell_type": "code",
   "execution_count": 52,
   "metadata": {},
   "outputs": [
    {
     "data": {
      "text/plain": [
       "<matplotlib.axes._subplots.AxesSubplot at 0x1ffd58358d0>"
      ]
     },
     "execution_count": 52,
     "metadata": {},
     "output_type": "execute_result"
    },
    {
     "data": {
      "image/png": "[encoded data removed]",
      "text/plain": [
       "<Figure size 576x396 with 1 Axes>"
      ]
     },
     "metadata": {},
     "output_type": "display_data"
    }
   ],
   "source": [
    "nfirs_tracts_sev[2016].clip(0,50).hist(bins=50)"
   ]
  },
  {
   "cell_type": "code",
   "execution_count": 53,
   "metadata": {},
   "outputs": [
    {
     "data": {
      "text/plain": [
       "(68129, 16)"
      ]
     },
     "execution_count": 53,
     "metadata": {},
     "output_type": "execute_result"
    }
   ],
   "source": [
    "nfirs_tracts_sev.shape"
   ]
  },
  {
   "cell_type": "code",
   "execution_count": 54,
   "metadata": {},
   "outputs": [
    {
     "data": {
      "text/plain": [
       "44239"
      ]
     },
     "execution_count": 54,
     "metadata": {},
     "output_type": "execute_result"
    }
   ],
   "source": [
    "(nfirs_tracts_sev[2016]==0).sum()"
   ]
  },
  {
   "cell_type": "code",
   "execution_count": 55,
   "metadata": {},
   "outputs": [
    {
     "data": {
      "text/plain": [
       "1376"
      ]
     },
     "execution_count": 55,
     "metadata": {},
     "output_type": "execute_result"
    }
   ],
   "source": [
    "(nfirs_tracts_sev[2016] > 3).sum()"
   ]
  },
  {
   "cell_type": "code",
   "execution_count": 56,
   "metadata": {},
   "outputs": [
    {
     "data": {
      "text/plain": [
       "260"
      ]
     },
     "execution_count": 56,
     "metadata": {},
     "output_type": "execute_result"
    }
   ],
   "source": [
    "(nfirs_tracts_sev[2016] > 5).sum()"
   ]
  },
  {
   "cell_type": "code",
   "execution_count": 57,
   "metadata": {},
   "outputs": [
    {
     "data": {
      "text/plain": [
       "21160"
      ]
     },
     "execution_count": 57,
     "metadata": {},
     "output_type": "execute_result"
    }
   ],
   "source": [
    "(nfirs_tracts_sev['total'] > 5).sum()"
   ]
  },
  {
   "cell_type": "code",
   "execution_count": 58,
   "metadata": {},
   "outputs": [
    {
     "data": {
      "text/plain": [
       "500"
      ]
     },
     "execution_count": 58,
     "metadata": {},
     "output_type": "execute_result"
    }
   ],
   "source": [
    "(nfirs_tracts_sev['total'] > 30).sum()"
   ]
  },
  {
   "cell_type": "markdown",
   "metadata": {},
   "source": [
    "<b>So, the vast majority of census tracts have 0 fires in 2016. This analysis could probably just look at census tracts with above 5 fires or something like that, however the number of census tracts with above 5 severe fires is only 260. </b>"
   ]
  },
  {
   "cell_type": "markdown",
   "metadata": {
    "toc-hr-collapsed": false
   },
   "source": [
    "## Correlation Coefficients"
   ]
  },
  {
   "cell_type": "markdown",
   "metadata": {},
   "source": [
    "### All tracts"
   ]
  },
  {
   "cell_type": "code",
   "execution_count": 59,
   "metadata": {},
   "outputs": [
    {
     "data": {
      "text/plain": [
       "(<Figure size 720x720 with 2 Axes>,\n",
       " <matplotlib.axes._subplots.AxesSubplot at 0x1ffd634a668>)"
      ]
     },
     "execution_count": 59,
     "metadata": {},
     "output_type": "execute_result"
    },
    {
     "data": {
      "image/png": "[encoded data removed]",
      "text/plain": [
       "<Figure size 720x720 with 2 Axes>"
      ]
     },
     "metadata": {},
     "output_type": "display_data"
    }
   ],
   "source": [
    "plot_correlation_matrix_heat_map(nfirs_tracts_sev[range(2009,2017)],2016)"
   ]
  },
  {
   "cell_type": "code",
   "execution_count": 60,
   "metadata": {},
   "outputs": [],
   "source": [
    "nfirs_top_tracts_sev = nfirs_tracts_sev[nfirs_tracts_sev['total'] > 5]"
   ]
  },
  {
   "cell_type": "markdown",
   "metadata": {},
   "source": [
    "### Tracts with at least 5 total fires"
   ]
  },
  {
   "cell_type": "code",
   "execution_count": 61,
   "metadata": {},
   "outputs": [
    {
     "data": {
      "text/plain": [
       "(<Figure size 720x720 with 2 Axes>,\n",
       " <matplotlib.axes._subplots.AxesSubplot at 0x1ffd6425080>)"
      ]
     },
     "execution_count": 61,
     "metadata": {},
     "output_type": "execute_result"
    },
    {
     "data": {
      "image/png": "[encoded data removed]",
      "text/plain": [
       "<Figure size 720x720 with 2 Axes>"
      ]
     },
     "metadata": {},
     "output_type": "display_data"
    }
   ],
   "source": [
    "plot_correlation_matrix_heat_map(nfirs_top_tracts_sev[range(2009,2017)],2016)"
   ]
  },
  {
   "cell_type": "markdown",
   "metadata": {},
   "source": [
    "Looking at only census tracts with above 5 total fires produces an even worse correlation matrix. Perhaps the number needs to be set way higher."
   ]
  },
  {
   "cell_type": "code",
   "execution_count": 62,
   "metadata": {},
   "outputs": [],
   "source": [
    "nfirs_top_tracts_sev = nfirs_tracts_sev[nfirs_tracts_sev['total'] > 30]"
   ]
  },
  {
   "cell_type": "markdown",
   "metadata": {},
   "source": [
    "### Tracts with at least 30 total fires"
   ]
  },
  {
   "cell_type": "code",
   "execution_count": 63,
   "metadata": {},
   "outputs": [
    {
     "data": {
      "text/plain": [
       "(<Figure size 720x720 with 2 Axes>,\n",
       " <matplotlib.axes._subplots.AxesSubplot at 0x1ffdfc71f60>)"
      ]
     },
     "execution_count": 63,
     "metadata": {},
     "output_type": "execute_result"
    },
    {
     "data": {
      "image/png": "[encoded data removed]",
      "text/plain": [
       "<Figure size 720x720 with 2 Axes>"
      ]
     },
     "metadata": {},
     "output_type": "display_data"
    }
   ],
   "source": [
    "plot_correlation_matrix_heat_map(nfirs_top_tracts_sev[range(2009,2017)],2016)"
   ]
  },
  {
   "cell_type": "code",
   "execution_count": 64,
   "metadata": {},
   "outputs": [
    {
     "data": {
      "text/html": [
       "<div>\n",
       "<style scoped>\n",
       "    .dataframe tbody tr th:only-of-type {\n",
       "        vertical-align: middle;\n",
       "    }\n",
       "\n",
       "    .dataframe tbody tr th {\n",
       "        vertical-align: top;\n",
       "    }\n",
       "\n",
       "    .dataframe thead th {\n",
       "        text-align: right;\n",
       "    }\n",
       "</style>\n",
       "<table border=\"1\" class=\"dataframe\">\n",
       "  <thead>\n",
       "    <tr style=\"text-align: right;\">\n",
       "      <th></th>\n",
       "      <th>2009</th>\n",
       "      <th>2010</th>\n",
       "      <th>2011</th>\n",
       "      <th>2012</th>\n",
       "      <th>2013</th>\n",
       "      <th>2014</th>\n",
       "      <th>2015</th>\n",
       "      <th>2016</th>\n",
       "      <th>total</th>\n",
       "      <th>avg_2009_2015</th>\n",
       "      <th>diff_2009_2010</th>\n",
       "      <th>diff_2010_2011</th>\n",
       "      <th>diff_2011_2012</th>\n",
       "      <th>diff_2012_2013</th>\n",
       "      <th>diff_2013_2014</th>\n",
       "      <th>diff_2014_2015</th>\n",
       "    </tr>\n",
       "    <tr>\n",
       "      <th>GEOID</th>\n",
       "      <th></th>\n",
       "      <th></th>\n",
       "      <th></th>\n",
       "      <th></th>\n",
       "      <th></th>\n",
       "      <th></th>\n",
       "      <th></th>\n",
       "      <th></th>\n",
       "      <th></th>\n",
       "      <th></th>\n",
       "      <th></th>\n",
       "      <th></th>\n",
       "      <th></th>\n",
       "      <th></th>\n",
       "      <th></th>\n",
       "      <th></th>\n",
       "    </tr>\n",
       "  </thead>\n",
       "  <tbody>\n",
       "    <tr>\n",
       "      <th>01073003700</th>\n",
       "      <td>0</td>\n",
       "      <td>2</td>\n",
       "      <td>4</td>\n",
       "      <td>0</td>\n",
       "      <td>16</td>\n",
       "      <td>2</td>\n",
       "      <td>5</td>\n",
       "      <td>2</td>\n",
       "      <td>31</td>\n",
       "      <td>4.142857</td>\n",
       "      <td>2</td>\n",
       "      <td>2</td>\n",
       "      <td>-4</td>\n",
       "      <td>16</td>\n",
       "      <td>-14</td>\n",
       "      <td>3</td>\n",
       "    </tr>\n",
       "    <tr>\n",
       "      <th>01073005908</th>\n",
       "      <td>5</td>\n",
       "      <td>6</td>\n",
       "      <td>9</td>\n",
       "      <td>1</td>\n",
       "      <td>2</td>\n",
       "      <td>3</td>\n",
       "      <td>2</td>\n",
       "      <td>4</td>\n",
       "      <td>32</td>\n",
       "      <td>4.000000</td>\n",
       "      <td>1</td>\n",
       "      <td>3</td>\n",
       "      <td>-8</td>\n",
       "      <td>1</td>\n",
       "      <td>1</td>\n",
       "      <td>-1</td>\n",
       "    </tr>\n",
       "    <tr>\n",
       "      <th>01073011802</th>\n",
       "      <td>6</td>\n",
       "      <td>8</td>\n",
       "      <td>7</td>\n",
       "      <td>5</td>\n",
       "      <td>4</td>\n",
       "      <td>20</td>\n",
       "      <td>7</td>\n",
       "      <td>3</td>\n",
       "      <td>60</td>\n",
       "      <td>8.142857</td>\n",
       "      <td>2</td>\n",
       "      <td>-1</td>\n",
       "      <td>-2</td>\n",
       "      <td>-1</td>\n",
       "      <td>16</td>\n",
       "      <td>-13</td>\n",
       "    </tr>\n",
       "    <tr>\n",
       "      <th>01073011803</th>\n",
       "      <td>4</td>\n",
       "      <td>6</td>\n",
       "      <td>6</td>\n",
       "      <td>6</td>\n",
       "      <td>3</td>\n",
       "      <td>10</td>\n",
       "      <td>8</td>\n",
       "      <td>7</td>\n",
       "      <td>50</td>\n",
       "      <td>6.142857</td>\n",
       "      <td>2</td>\n",
       "      <td>0</td>\n",
       "      <td>0</td>\n",
       "      <td>-3</td>\n",
       "      <td>7</td>\n",
       "      <td>-2</td>\n",
       "    </tr>\n",
       "    <tr>\n",
       "      <th>02020000802</th>\n",
       "      <td>1</td>\n",
       "      <td>3</td>\n",
       "      <td>4</td>\n",
       "      <td>4</td>\n",
       "      <td>11</td>\n",
       "      <td>3</td>\n",
       "      <td>3</td>\n",
       "      <td>4</td>\n",
       "      <td>33</td>\n",
       "      <td>4.142857</td>\n",
       "      <td>2</td>\n",
       "      <td>1</td>\n",
       "      <td>0</td>\n",
       "      <td>7</td>\n",
       "      <td>-8</td>\n",
       "      <td>0</td>\n",
       "    </tr>\n",
       "  </tbody>\n",
       "</table>\n",
       "</div>"
      ],
      "text/plain": [
       "             2009  2010  2011  2012  2013  2014  2015  2016  total  \\\n",
       "GEOID                                                                \n",
       "01073003700     0     2     4     0    16     2     5     2     31   \n",
       "01073005908     5     6     9     1     2     3     2     4     32   \n",
       "01073011802     6     8     7     5     4    20     7     3     60   \n",
       "01073011803     4     6     6     6     3    10     8     7     50   \n",
       "02020000802     1     3     4     4    11     3     3     4     33   \n",
       "\n",
       "             avg_2009_2015  diff_2009_2010  diff_2010_2011  diff_2011_2012  \\\n",
       "GEOID                                                                        \n",
       "01073003700       4.142857               2               2              -4   \n",
       "01073005908       4.000000               1               3              -8   \n",
       "01073011802       8.142857               2              -1              -2   \n",
       "01073011803       6.142857               2               0               0   \n",
       "02020000802       4.142857               2               1               0   \n",
       "\n",
       "             diff_2012_2013  diff_2013_2014  diff_2014_2015  \n",
       "GEOID                                                        \n",
       "01073003700              16             -14               3  \n",
       "01073005908               1               1              -1  \n",
       "01073011802              -1              16             -13  \n",
       "01073011803              -3               7              -2  \n",
       "02020000802               7              -8               0  "
      ]
     },
     "execution_count": 64,
     "metadata": {},
     "output_type": "execute_result"
    }
   ],
   "source": [
    "nfirs_top_tracts_sev.head()"
   ]
  },
  {
   "cell_type": "markdown",
   "metadata": {},
   "source": [
    "## Linear Regression"
   ]
  },
  {
   "cell_type": "code",
   "execution_count": 83,
   "metadata": {},
   "outputs": [
    {
     "name": "stdout",
     "output_type": "stream",
     "text": [
      "Training score:  0.19010285191026063\n",
      "Test score:  0.14861634951352032\n",
      "Root mean squared error:  0.9133580598667849\n",
      "Mean absolute error:  0.6371385163183273\n"
     ]
    }
   ],
   "source": [
    "features = [2015,2014,'diff_2014_2015','diff_2013_2014']\n",
    "\n",
    "X_train,X_test,y_train,y_test = train_test_split(nfirs_tracts_sev[features].drop('06033001200'),nfirs_tracts_sev[label].drop('06033001200'),random_state=1)\n",
    "\n",
    "lr = LinearRegression()\n",
    "params = {}\n",
    "gs_lr = GridSearchCV(lr,params,cv=10)\n",
    "\n",
    "gs_lr.fit(X_train,y_train)\n",
    "\n",
    "print('Training score: ',gs_lr.score(X_train,y_train))\n",
    "print('Test score: ',gs_lr.score(X_test,y_test))\n",
    "\n",
    "predictions = gs_lr.predict(X_test)\n",
    "mse = mean_squared_error(y_test,predictions)\n",
    "rmse = np.sqrt(mse)\n",
    "print('Root mean squared error: ',rmse)\n",
    "mae = mean_absolute_error(y_test,predictions)\n",
    "print('Mean absolute error: ',mae)"
   ]
  },
  {
   "cell_type": "code",
   "execution_count": 84,
   "metadata": {},
   "outputs": [
    {
     "data": {
      "image/png": "[encoded data removed]",
      "text/plain": [
       "<Figure size 576x396 with 2 Axes>"
      ]
     },
     "metadata": {},
     "output_type": "display_data"
    },
    {
     "data": {
      "text/plain": [
       "<matplotlib.axes._subplots.AxesSubplot at 0x1ffe3da3860>"
      ]
     },
     "execution_count": 84,
     "metadata": {},
     "output_type": "execute_result"
    }
   ],
   "source": [
    "visualizer = ResidualsPlot(gs_lr.best_estimator_)\n",
    "\n",
    "visualizer.fit(X_train, y_train)\n",
    "visualizer.score(X_test,y_test)\n",
    "visualizer.show()"
   ]
  },
  {
   "cell_type": "code",
   "execution_count": null,
   "metadata": {},
   "outputs": [],
   "source": []
  },
  {
   "cell_type": "markdown",
   "metadata": {},
   "source": [
    "## Linear Regression for tracts with at least 5 severe fires"
   ]
  },
  {
   "cell_type": "code",
   "execution_count": 81,
   "metadata": {},
   "outputs": [
    {
     "name": "stdout",
     "output_type": "stream",
     "text": [
      "Training score:  0.007408563343728192\n",
      "Test score:  0.0068911123094040905\n",
      "Root mean squared error:  2.295106337248828\n",
      "Mean absolute error:  1.7634766433552571\n"
     ]
    },
    {
     "name": "stderr",
     "output_type": "stream",
     "text": [
      "C:\\Users\\thwhi\\Anaconda3\\lib\\site-packages\\sklearn\\model_selection\\_search.py:813: DeprecationWarning: The default of the `iid` parameter will change from True to False in version 0.22 and will be removed in 0.24. This will change numeric results when test-set sizes are unequal.\n",
      "  DeprecationWarning)\n"
     ]
    }
   ],
   "source": [
    "# Only looking at the census tracts with at least 30 fires total\n",
    "features = [2015,2014,'diff_2014_2015','diff_2013_2014']\n",
    "\n",
    "# Dropped 06033001200 because it was the only clear outlier\n",
    "X_train,X_test,y_train,y_test = train_test_split(nfirs_top_tracts_sev[features].drop('06033001200'),nfirs_top_tracts_sev[label].drop('06033001200'),random_state=1)\n",
    "\n",
    "lr = LinearRegression()\n",
    "params = {}\n",
    "gs_lr = GridSearchCV(lr,params,cv=10)\n",
    "\n",
    "gs_lr.fit(X_train,y_train)\n",
    "\n",
    "print('Training score: ',gs_lr.score(X_train,y_train))\n",
    "print('Test score: ',gs_lr.score(X_test,y_test))\n",
    "\n",
    "predictions = gs_lr.predict(X_test)\n",
    "mse = mean_squared_error(y_test,predictions)\n",
    "rmse = np.sqrt(mse)\n",
    "print('Root mean squared error: ',rmse)\n",
    "mae = mean_absolute_error(y_test,predictions)\n",
    "print('Mean absolute error: ',mae)"
   ]
  },
  {
   "cell_type": "code",
   "execution_count": 82,
   "metadata": {},
   "outputs": [
    {
     "data": {
      "image/png": "[encoded data removed]",
      "text/plain": [
       "<Figure size 576x396 with 2 Axes>"
      ]
     },
     "metadata": {},
     "output_type": "display_data"
    },
    {
     "data": {
      "text/plain": [
       "<matplotlib.axes._subplots.AxesSubplot at 0x1ffe3c16fd0>"
      ]
     },
     "execution_count": 82,
     "metadata": {},
     "output_type": "execute_result"
    }
   ],
   "source": [
    "visualizer = ResidualsPlot(gs_lr.best_estimator_)\n",
    "\n",
    "visualizer.fit(X_train, y_train)\n",
    "visualizer.score(X_test,y_test)\n",
    "visualizer.show()"
   ]
  },
  {
   "cell_type": "code",
   "execution_count": null,
   "metadata": {},
   "outputs": [],
   "source": []
  },
  {
   "cell_type": "code",
   "execution_count": 89,
   "metadata": {},
   "outputs": [
    {
     "data": {
      "text/plain": [
       "<matplotlib.axes._subplots.AxesSubplot at 0x1ffe434b4a8>"
      ]
     },
     "execution_count": 89,
     "metadata": {},
     "output_type": "execute_result"
    },
    {
     "data": {
      "image/png": "[encoded data removed]",
      "text/plain": [
       "<Figure size 576x396 with 1 Axes>"
      ]
     },
     "metadata": {},
     "output_type": "display_data"
    }
   ],
   "source": [
    "nfirs_top_tracts_sev[2016].clip(0,20).hist(bins=20)"
   ]
  },
  {
   "cell_type": "code",
   "execution_count": null,
   "metadata": {},
   "outputs": [],
   "source": []
  },
  {
   "cell_type": "code",
   "execution_count": null,
   "metadata": {},
   "outputs": [],
   "source": []
  },
  {
   "cell_type": "code",
   "execution_count": null,
   "metadata": {},
   "outputs": [],
   "source": []
  },
  {
   "cell_type": "code",
   "execution_count": null,
   "metadata": {},
   "outputs": [],
   "source": []
  }
 ],
 "metadata": {
  "kernelspec": {
   "display_name": "Python 3",
   "language": "python",
   "name": "python3"
  },
  "language_info": {
   "codemirror_mode": {
    "name": "ipython",
    "version": 3
   },
   "file_extension": ".py",
   "mimetype": "text/x-python",
   "name": "python",
   "nbconvert_exporter": "python",
   "pygments_lexer": "ipython3",
   "version": "3.7.4"
  }
 },
 "nbformat": 4,
 "nbformat_minor": 4
}
