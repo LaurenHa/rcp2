{
 "cells": [
  {
   "cell_type": "markdown",
   "metadata": {},
   "source": [
    "# DataKind Red Cross Project ACS Quickstart \n",
    "\n"
   ]
  },
  {
   "cell_type": "code",
   "execution_count": 1,
   "metadata": {},
   "outputs": [],
   "source": [
    "from pathlib import Path\n",
    "import pandas as pd\n",
    "import numpy as np\n",
    "\n"
   ]
  },
  {
   "cell_type": "code",
   "execution_count": 2,
   "metadata": {},
   "outputs": [],
   "source": [
    "# Data Import and Cleaning"
   ]
  },
  {
   "cell_type": "code",
   "execution_count": 7,
   "metadata": {},
   "outputs": [
    {
     "name": "stderr",
     "output_type": "stream",
     "text": [
      "/anaconda3/lib/python3.6/site-packages/IPython/core/interactiveshell.py:2728: DtypeWarning: Columns (581,582,585,586,587,588,591,592,601,602,605,606,609,610,613,614,617,618,621,622,625,626,629,630,633,634,641,642,645,646,649,650,653,654,657,658,661,662,665,666,669,670,673,674,677,678,685,686,689,690,693,694,697,698,701,702,705,706,709,710,713,714,717,718,719,720,729,730,733,734,737,738,741,742,745,746,749,750,757,758,761,762,763,764,767,768,777,778,781,782,785,786,789,790,793,794,797,798,805,806,809,810,813,814,817,818,825,826,829,830,833,834,837,838,841,842,845,846,849,850,853,854,857,858,865,866,869,870,871,872,873,874,881,882,885,886,889,890,897,898,901,902,905,906,909,910,913,914,917,918,921,922,925,926,927,928,937,938,941,942,949,950,953,954,957,958,961,962,965,966,969,970,973,974,985,986,989,990,993,994,997,998,1001,1002,1005,1006,1017,1018,1021,1022,1025,1026,1029,1030,1033,1034,1045,1046,1049,1050,1053,1054,1057,1058,1061,1062,1065,1066,1069,1070,1081,1082,1085,1086,1089,1090,1093,1094,1097,1098,1101,1102,1105,1106,1121,1122,1125,1126,1129,1130,1133,1134,1137,1138,1141,1142) have mixed types. Specify dtype option on import or set low_memory=False.\n",
      "  interactivity=interactivity, compiler=compiler, result=result)\n"
     ]
    }
   ],
   "source": [
    "p = Path.cwd()\n",
    "data_path = p.parent / 'data' / 'Master Project Data' \n",
    "acs_path =  data_path / 'ACS 5YR Tract Data.csv'\n",
    "\n",
    "\n",
    "ACS = pd.read_csv(acs_path,\n",
    "                    encoding='latin-1')\n"
   ]
  },
  {
   "cell_type": "code",
   "execution_count": 8,
   "metadata": {},
   "outputs": [
    {
     "data": {
      "text/html": [
       "<div>\n",
       "<style scoped>\n",
       "    .dataframe tbody tr th:only-of-type {\n",
       "        vertical-align: middle;\n",
       "    }\n",
       "\n",
       "    .dataframe tbody tr th {\n",
       "        vertical-align: top;\n",
       "    }\n",
       "\n",
       "    .dataframe thead th {\n",
       "        text-align: right;\n",
       "    }\n",
       "</style>\n",
       "<table border=\"1\" class=\"dataframe\">\n",
       "  <thead>\n",
       "    <tr style=\"text-align: right;\">\n",
       "      <th></th>\n",
       "      <th>NAME</th>\n",
       "      <th>GEO_ID</th>\n",
       "      <th>DP04_0001E</th>\n",
       "      <th>DP04_0001M</th>\n",
       "      <th>DP04_0001PE</th>\n",
       "      <th>DP04_0001PM</th>\n",
       "      <th>DP04_0002E</th>\n",
       "      <th>DP04_0002M</th>\n",
       "      <th>DP04_0002PE</th>\n",
       "      <th>DP04_0002PM</th>\n",
       "      <th>...</th>\n",
       "      <th>DP04_0142MA</th>\n",
       "      <th>DP04_0142PEA</th>\n",
       "      <th>DP04_0142PMA</th>\n",
       "      <th>DP04_0143EA</th>\n",
       "      <th>DP04_0143MA</th>\n",
       "      <th>DP04_0143PMA</th>\n",
       "      <th>DP04_0143PEA</th>\n",
       "      <th>state</th>\n",
       "      <th>county</th>\n",
       "      <th>tract</th>\n",
       "    </tr>\n",
       "  </thead>\n",
       "  <tbody>\n",
       "    <tr>\n",
       "      <th>0</th>\n",
       "      <td>Census Tract 140.02, Spokane County, Washington</td>\n",
       "      <td>1400000US53063014002</td>\n",
       "      <td>2392</td>\n",
       "      <td>185</td>\n",
       "      <td>2392</td>\n",
       "      <td>-888888888</td>\n",
       "      <td>2246</td>\n",
       "      <td>173</td>\n",
       "      <td>93.9</td>\n",
       "      <td>4.6</td>\n",
       "      <td>...</td>\n",
       "      <td>NaN</td>\n",
       "      <td>NaN</td>\n",
       "      <td>NaN</td>\n",
       "      <td>NaN</td>\n",
       "      <td>NaN</td>\n",
       "      <td>(X)</td>\n",
       "      <td>(X)</td>\n",
       "      <td>53</td>\n",
       "      <td>63</td>\n",
       "      <td>14002</td>\n",
       "    </tr>\n",
       "    <tr>\n",
       "      <th>1</th>\n",
       "      <td>Census Tract 4, Spokane County, Washington</td>\n",
       "      <td>1400000US53063000400</td>\n",
       "      <td>1871</td>\n",
       "      <td>55</td>\n",
       "      <td>1871</td>\n",
       "      <td>-888888888</td>\n",
       "      <td>1697</td>\n",
       "      <td>117</td>\n",
       "      <td>90.7</td>\n",
       "      <td>5.5</td>\n",
       "      <td>...</td>\n",
       "      <td>NaN</td>\n",
       "      <td>NaN</td>\n",
       "      <td>NaN</td>\n",
       "      <td>NaN</td>\n",
       "      <td>NaN</td>\n",
       "      <td>(X)</td>\n",
       "      <td>(X)</td>\n",
       "      <td>53</td>\n",
       "      <td>63</td>\n",
       "      <td>400</td>\n",
       "    </tr>\n",
       "  </tbody>\n",
       "</table>\n",
       "<p>2 rows × 1150 columns</p>\n",
       "</div>"
      ],
      "text/plain": [
       "                                              NAME                GEO_ID  \\\n",
       "0  Census Tract 140.02, Spokane County, Washington  1400000US53063014002   \n",
       "1       Census Tract 4, Spokane County, Washington  1400000US53063000400   \n",
       "\n",
       "   DP04_0001E  DP04_0001M  DP04_0001PE  DP04_0001PM  DP04_0002E  DP04_0002M  \\\n",
       "0        2392         185         2392   -888888888        2246         173   \n",
       "1        1871          55         1871   -888888888        1697         117   \n",
       "\n",
       "   DP04_0002PE  DP04_0002PM  ...  DP04_0142MA  DP04_0142PEA  DP04_0142PMA  \\\n",
       "0         93.9          4.6  ...          NaN           NaN           NaN   \n",
       "1         90.7          5.5  ...          NaN           NaN           NaN   \n",
       "\n",
       "   DP04_0143EA  DP04_0143MA  DP04_0143PMA  DP04_0143PEA  state  county  tract  \n",
       "0          NaN          NaN           (X)           (X)     53      63  14002  \n",
       "1          NaN          NaN           (X)           (X)     53      63    400  \n",
       "\n",
       "[2 rows x 1150 columns]"
      ]
     },
     "execution_count": 8,
     "metadata": {},
     "output_type": "execute_result"
    }
   ],
   "source": [
    "# Fix the tot_loss column which had incorrect data for 2015. Since tot_loss = prop_loss + cont_loss, it was easy enough to recalculate those values\n",
    "ACS.head(2)"
   ]
  },
  {
   "cell_type": "code",
   "execution_count": null,
   "metadata": {},
   "outputs": [],
   "source": []
  },
  {
   "cell_type": "code",
   "execution_count": null,
   "metadata": {},
   "outputs": [],
   "source": []
  },
  {
   "cell_type": "markdown",
   "metadata": {},
   "source": []
  },
  {
   "cell_type": "code",
   "execution_count": null,
   "metadata": {},
   "outputs": [],
   "source": []
  },
  {
   "cell_type": "code",
   "execution_count": null,
   "metadata": {},
   "outputs": [],
   "source": []
  }
 ],
 "metadata": {
  "kernelspec": {
   "display_name": "Python 3",
   "language": "python",
   "name": "python3"
  },
  "language_info": {
   "codemirror_mode": {
    "name": "ipython",
    "version": 3
   },
   "file_extension": ".py",
   "mimetype": "text/x-python",
   "name": "python",
   "nbconvert_exporter": "python",
   "pygments_lexer": "ipython3",
   "version": "3.7.4"
  }
 },
 "nbformat": 4,
 "nbformat_minor": 4
}
